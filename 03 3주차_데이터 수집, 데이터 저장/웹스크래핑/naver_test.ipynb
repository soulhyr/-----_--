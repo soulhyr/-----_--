{
 "cells": [
  {
   "cell_type": "code",
   "execution_count": 1,
   "metadata": {},
   "outputs": [
    {
     "name": "stdout",
     "output_type": "stream",
     "text": [
      "Requirement already satisfied: selenium in c:\\users\\richard\\appdata\\local\\programs\\python\\python310\\lib\\site-packages (4.21.0)\n",
      "Collecting webdriver_manager\n",
      "  Using cached webdriver_manager-4.0.1-py2.py3-none-any.whl (27 kB)\n",
      "Requirement already satisfied: urllib3[socks]<3,>=1.26 in c:\\users\\richard\\appdata\\local\\programs\\python\\python310\\lib\\site-packages (from selenium) (1.26.16)\n",
      "Requirement already satisfied: certifi>=2021.10.8 in c:\\users\\richard\\appdata\\local\\programs\\python\\python310\\lib\\site-packages (from selenium) (2023.5.7)\n",
      "Requirement already satisfied: trio-websocket~=0.9 in c:\\users\\richard\\appdata\\local\\programs\\python\\python310\\lib\\site-packages (from selenium) (0.11.1)\n",
      "Requirement already satisfied: typing_extensions>=4.9.0 in c:\\users\\richard\\appdata\\local\\programs\\python\\python310\\lib\\site-packages (from selenium) (4.12.2)\n",
      "Requirement already satisfied: trio~=0.17 in c:\\users\\richard\\appdata\\local\\programs\\python\\python310\\lib\\site-packages (from selenium) (0.25.1)\n",
      "Requirement already satisfied: requests in c:\\users\\richard\\appdata\\local\\programs\\python\\python310\\lib\\site-packages (from webdriver_manager) (2.27.1)\n",
      "Requirement already satisfied: packaging in c:\\users\\richard\\appdata\\roaming\\python\\python310\\site-packages (from webdriver_manager) (24.1)\n",
      "Collecting python-dotenv\n",
      "  Downloading python_dotenv-1.0.1-py3-none-any.whl (19 kB)\n",
      "Requirement already satisfied: sortedcontainers in c:\\users\\richard\\appdata\\local\\programs\\python\\python310\\lib\\site-packages (from trio~=0.17->selenium) (2.4.0)\n",
      "Requirement already satisfied: attrs>=23.2.0 in c:\\users\\richard\\appdata\\local\\programs\\python\\python310\\lib\\site-packages (from trio~=0.17->selenium) (23.2.0)\n",
      "Requirement already satisfied: exceptiongroup in c:\\users\\richard\\appdata\\roaming\\python\\python310\\site-packages (from trio~=0.17->selenium) (1.2.1)\n",
      "Requirement already satisfied: cffi>=1.14 in c:\\users\\richard\\appdata\\local\\programs\\python\\python310\\lib\\site-packages (from trio~=0.17->selenium) (1.16.0)\n",
      "Requirement already satisfied: sniffio>=1.3.0 in c:\\users\\richard\\appdata\\local\\programs\\python\\python310\\lib\\site-packages (from trio~=0.17->selenium) (1.3.1)\n",
      "Requirement already satisfied: outcome in c:\\users\\richard\\appdata\\local\\programs\\python\\python310\\lib\\site-packages (from trio~=0.17->selenium) (1.3.0.post0)\n",
      "Requirement already satisfied: idna in c:\\users\\richard\\appdata\\local\\programs\\python\\python310\\lib\\site-packages (from trio~=0.17->selenium) (3.4)\n",
      "Requirement already satisfied: wsproto>=0.14 in c:\\users\\richard\\appdata\\local\\programs\\python\\python310\\lib\\site-packages (from trio-websocket~=0.9->selenium) (1.2.0)\n",
      "Requirement already satisfied: PySocks!=1.5.7,<2.0,>=1.5.6 in c:\\users\\richard\\appdata\\local\\programs\\python\\python310\\lib\\site-packages (from urllib3[socks]<3,>=1.26->selenium) (1.7.1)\n",
      "Requirement already satisfied: charset-normalizer~=2.0.0 in c:\\users\\richard\\appdata\\local\\programs\\python\\python310\\lib\\site-packages (from requests->webdriver_manager) (2.0.12)\n",
      "Requirement already satisfied: pycparser in c:\\users\\richard\\appdata\\local\\programs\\python\\python310\\lib\\site-packages (from cffi>=1.14->trio~=0.17->selenium) (2.22)\n",
      "Requirement already satisfied: h11<1,>=0.9.0 in c:\\users\\richard\\appdata\\local\\programs\\python\\python310\\lib\\site-packages (from wsproto>=0.14->trio-websocket~=0.9->selenium) (0.14.0)\n",
      "Installing collected packages: python-dotenv, webdriver_manager\n",
      "Successfully installed python-dotenv-1.0.1 webdriver_manager-4.0.1\n"
     ]
    },
    {
     "name": "stderr",
     "output_type": "stream",
     "text": [
      "\n",
      "[notice] A new release of pip available: 22.2.1 -> 24.0\n",
      "[notice] To update, run: python.exe -m pip install --upgrade pip\n"
     ]
    },
    {
     "name": "stdout",
     "output_type": "stream",
     "text": [
      "Requirement already satisfied: selenium in c:\\users\\richard\\appdata\\local\\programs\\python\\python310\\lib\\site-packages (4.21.0)\n",
      "Requirement already satisfied: urllib3[socks]<3,>=1.26 in c:\\users\\richard\\appdata\\local\\programs\\python\\python310\\lib\\site-packages (from selenium) (1.26.16)\n",
      "Requirement already satisfied: trio~=0.17 in c:\\users\\richard\\appdata\\local\\programs\\python\\python310\\lib\\site-packages (from selenium) (0.25.1)\n",
      "Requirement already satisfied: certifi>=2021.10.8 in c:\\users\\richard\\appdata\\local\\programs\\python\\python310\\lib\\site-packages (from selenium) (2023.5.7)\n",
      "Requirement already satisfied: trio-websocket~=0.9 in c:\\users\\richard\\appdata\\local\\programs\\python\\python310\\lib\\site-packages (from selenium) (0.11.1)\n",
      "Requirement already satisfied: typing_extensions>=4.9.0 in c:\\users\\richard\\appdata\\local\\programs\\python\\python310\\lib\\site-packages (from selenium) (4.12.2)\n",
      "Requirement already satisfied: attrs>=23.2.0 in c:\\users\\richard\\appdata\\local\\programs\\python\\python310\\lib\\site-packages (from trio~=0.17->selenium) (23.2.0)\n",
      "Requirement already satisfied: sniffio>=1.3.0 in c:\\users\\richard\\appdata\\local\\programs\\python\\python310\\lib\\site-packages (from trio~=0.17->selenium) (1.3.1)\n",
      "Requirement already satisfied: idna in c:\\users\\richard\\appdata\\local\\programs\\python\\python310\\lib\\site-packages (from trio~=0.17->selenium) (3.4)\n",
      "Requirement already satisfied: exceptiongroup in c:\\users\\richard\\appdata\\roaming\\python\\python310\\site-packages (from trio~=0.17->selenium) (1.2.1)\n",
      "Requirement already satisfied: cffi>=1.14 in c:\\users\\richard\\appdata\\local\\programs\\python\\python310\\lib\\site-packages (from trio~=0.17->selenium) (1.16.0)\n",
      "Requirement already satisfied: outcome in c:\\users\\richard\\appdata\\local\\programs\\python\\python310\\lib\\site-packages (from trio~=0.17->selenium) (1.3.0.post0)\n",
      "Requirement already satisfied: sortedcontainers in c:\\users\\richard\\appdata\\local\\programs\\python\\python310\\lib\\site-packages (from trio~=0.17->selenium) (2.4.0)\n",
      "Requirement already satisfied: wsproto>=0.14 in c:\\users\\richard\\appdata\\local\\programs\\python\\python310\\lib\\site-packages (from trio-websocket~=0.9->selenium) (1.2.0)\n",
      "Requirement already satisfied: PySocks!=1.5.7,<2.0,>=1.5.6 in c:\\users\\richard\\appdata\\local\\programs\\python\\python310\\lib\\site-packages (from urllib3[socks]<3,>=1.26->selenium) (1.7.1)\n",
      "Requirement already satisfied: pycparser in c:\\users\\richard\\appdata\\local\\programs\\python\\python310\\lib\\site-packages (from cffi>=1.14->trio~=0.17->selenium) (2.22)\n",
      "Requirement already satisfied: h11<1,>=0.9.0 in c:\\users\\richard\\appdata\\local\\programs\\python\\python310\\lib\\site-packages (from wsproto>=0.14->trio-websocket~=0.9->selenium) (0.14.0)\n"
     ]
    },
    {
     "name": "stderr",
     "output_type": "stream",
     "text": [
      "\n",
      "[notice] A new release of pip available: 22.2.1 -> 24.0\n",
      "[notice] To update, run: python.exe -m pip install --upgrade pip\n"
     ]
    }
   ],
   "source": [
    "!pip install selenium webdriver_manager\n",
    "!pip install --upgrade selenium"
   ]
  },
  {
   "cell_type": "code",
   "execution_count": 2,
   "metadata": {},
   "outputs": [
    {
     "name": "stderr",
     "output_type": "stream",
     "text": [
      "'sudo'��(��) ���� �Ǵ� �ܺ� ����, ������ �� �ִ� ���α׷�, �Ǵ�\n",
      "��ġ ������ �ƴմϴ�.\n",
      "'sudo'��(��) ���� �Ǵ� �ܺ� ����, ������ �� �ִ� ���α׷�, �Ǵ�\n",
      "��ġ ������ �ƴմϴ�.\n",
      "'rm'��(��) ���� �Ǵ� �ܺ� ����, ������ �� �ִ� ���α׷�, �Ǵ�\n",
      "��ġ ������ �ƴմϴ�.\n"
     ]
    }
   ],
   "source": [
    "# 코랩에서 한글 폰트 설정을 위한 설치 방법\n",
    "# 설치 후 런타임 재시작 필수\n",
    "\n",
    "!sudo apt-get install -y fonts-nanum\n",
    "!sudo fc-cache -fv\n",
    "!rm ~/.cache/matplotlib -rf"
   ]
  },
  {
   "cell_type": "code",
   "execution_count": 3,
   "metadata": {},
   "outputs": [],
   "source": [
    "# selenium 동작 테스트\n",
    "\n",
    "import selenium\n",
    "\n",
    "selenium.__version__\n",
    "\n",
    "# -*- coding: UTF-8 -*-\n",
    "import time\n",
    "from selenium import webdriver\n",
    "from selenium.webdriver.common.by import By\n",
    "\n",
    "#Colab에선 웹브라우저 창이 뜨지 않으므로 별도 설정한다.\n",
    "\n",
    "options = webdriver.ChromeOptions()\n",
    "options.add_argument('--headless')        # Head-less 설정\n",
    "options.add_argument('--no-sandbox')\n",
    "options.add_argument('--disable-dev-shm-usage')\n",
    "\n",
    "driver = webdriver.Chrome(options=options)\n",
    "\n",
    "#해당 url로 이동\n",
    "url = \"https://www.naver.com/\"\n",
    "driver.get(url)\n",
    "\n",
    "# 페이지 소스 가져오기 & title 태그 웹 사이트 제목 가져오기\n",
    "html = driver.page_source\n",
    "print(html.split(\"<title>\")[1].split(\"</title>\")[0])\n",
    "\n",
    "driver.quit()"
   ]
  },
  {
   "cell_type": "code",
   "execution_count": 7,
   "metadata": {},
   "outputs": [],
   "source": [
    "from selenium import webdriver # 웹 브라우저를 자동화할 수 있는 객체와 함수 제공\n",
    "from selenium.webdriver.chrome.service import Service # ChromeDriver와 통신하기 위한 Service 클래스\n",
    "from webdriver_manager.chrome import ChromeDriverManager # ChromeDriver를 자동으로 설치하고 관리하는 클래스\n",
    "from selenium.webdriver.chrome.options import Options # Chrome webdriver 생성 시 설정하는 옵션을 관리하는 클래스\n",
    "\n",
    "def setup_headless_chrome():\n",
    "    # Chrome 옵션 객체 생성 및 설정\n",
    "    options = Options()\n",
    "    options.headless = True\n",
    "    options.add_argument('--no-sandbox')\n",
    "    options.add_argument('--disable-gpu')\n",
    "    options.add_argument('--window-size=1920x1080')\n",
    "\n",
    "    # ChromeDriverManager를 통해 자동으로 드라이버를 설치하고 서비스 객체 생성\n",
    "    service = Service(ChromeDriverManager().install())\n",
    "\n",
    "    # 설정한 옵션과 서비스 객체를 이용하여 Chrome WebDriver 객체 생성\n",
    "    # 실제 웹 스크래핑을 수행하는 객체\n",
    "    driver = webdriver.Chrome(service=service, options=options)\n",
    "    return driver\n",
    "\n",
    "def scrape_website(url):\n",
    "    driver = setup_headless_chrome()\n",
    "    driver.get(url)\n",
    "\n",
    "    # 페이지의 타이틀 출력\n",
    "    print(\"Page Title is:\", driver.title)\n",
    "\n",
    "    # 첫 번째 h2 찾기\n",
    "    header = driver.find_element('xpath', '//h2').text\n",
    "    print(\"First Header:\", header)\n",
    "\n",
    "    # WebDriver 종료\n",
    "    driver.quit()\n",
    "\n",
    "# 원하는 URL로 변경\n",
    "scrape_website('https://quotes.toscrape.com/')\n"
   ]
  },
  {
   "cell_type": "code",
   "execution_count": null,
   "metadata": {},
   "outputs": [],
   "source": [
    "# # for local\n",
    "\n",
    "# # 네이버 로그인 절차가 강화되어 자동입력 방지문자(Captcha)를 입력해야 로그인할 수 있음.\n",
    "# # 먼저, webdriver를 이용하여 비밀번호 입력까지만 실행\n",
    "# # 이후, 자동입력 방지문자는 브라우저 창에서 수작업으로 입력 후 나머지 코드 진행\n",
    "\n",
    "# # Step 1\n",
    "# from selenium import webdriver\n",
    "# from selenium.webdriver.chrome.options import Options\n",
    "# from selenium.webdriver.chrome.service import Service\n",
    "# from webdriver_manager.chrome import ChromeDriverManager\n",
    "# from selenium.webdriver.common.by import By\n",
    "\n",
    "# USER = user\n",
    "# PASS = passwd\n",
    "\n",
    "# options = Options()\n",
    "# options.headless = True\n",
    "# options.add_argument('--no-sandbox')\n",
    "# options.add_argument('--disable-gpu')\n",
    "\n",
    "# service = Service(ChromeDriverManager().install())\n",
    "\n",
    "# browser = webdriver.Chrome(service=service, options=options)\n",
    "\n",
    "# # 로그인 페이지에 접근하기\n",
    "# url_login = \"https://nid.naver.com/nidlogin.login\"\n",
    "# browser.get(url_login)\n",
    "# print(\"로그인 페이지에 접근합니다.\")\n",
    "\n",
    "# # 텍스트 박스에 아이디와 비밀번호 입력하기\n",
    "# e = browser.find_element(By.ID, \"id\")\n",
    "# e.clear()\n",
    "# e.send_keys(USER)\n",
    "# e = browser.find_element(By.ID, \"pw\")\n",
    "# e.clear()\n",
    "# e.send_keys(PASS)\n",
    "\n",
    "# # 입력 양식 전송해서 로그인하기\n",
    "# form = browser.find_element(By.CSS_SELECTOR, \"#log\\.login\")\n",
    "# form.submit()\n",
    "# print(\"로그인 버튼을 클릭합니다.\")\n"
   ]
  },
  {
   "cell_type": "code",
   "execution_count": null,
   "metadata": {},
   "outputs": [],
   "source": [
    "# # 쇼핑 페이지의 데이터 가져오기\n",
    "# import time\n",
    "\n",
    "# browser.get(\"https://order.pay.naver.com/home?tabMenu=SHOPPING\")\n",
    "# time.sleep(1)\n",
    "\n",
    "# # 네이버페이 링크 가져오기\n",
    "# links = browser.find_elements(By.CLASS_NAME, \"PayWalletWidgetItem-module_link-point__6mjma\")\n",
    "# link = links[1].get_attribute('href')\n",
    "# browser.get(link)\n",
    "# time.sleep(1)\n",
    "\n",
    "# element = browser.find_elements(By.CSS_SELECTOR, '#__next > div.sc-eqUAAy.ddkHQb > div > div > div > div.wrap-info > div > div > div.PayMoneyAccountInfo_article__haNXA > div > strong')\n",
    "# element[0].text.replace('\\n', ': ')\n"
   ]
  },
  {
   "attachments": {},
   "cell_type": "markdown",
   "metadata": {},
   "source": [
    "연습문제1 - 네이버에 로그인해서 구매한 물건 목록 가져오기\n",
    "쇼핑페이지로 이동하여 구매한 목록 가져오기\n",
    "쇼핑 페이지 URL"
   ]
  }
 ],
 "metadata": {
  "kernelspec": {
   "display_name": "Python 3",
   "language": "python",
   "name": "python3"
  },
  "language_info": {
   "codemirror_mode": {
    "name": "ipython",
    "version": 3
   },
   "file_extension": ".py",
   "mimetype": "text/x-python",
   "name": "python",
   "nbconvert_exporter": "python",
   "pygments_lexer": "ipython3",
   "version": "3.10.6"
  },
  "orig_nbformat": 4
 },
 "nbformat": 4,
 "nbformat_minor": 2
}
