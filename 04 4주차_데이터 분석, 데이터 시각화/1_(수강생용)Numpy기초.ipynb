{
  "cells": [
    {
      "cell_type": "markdown",
      "metadata": {
        "id": "6kRZCg8qpOTY"
      },
      "source": [
        "> 참고자료\n",
        "- 파이썬 라이브러리를 활용한 데이터 분석 - 3rd edition by 웨스 맥키니"
      ]
    },
    {
      "cell_type": "markdown",
      "metadata": {
        "id": "JmawIXmm4BlO"
      },
      "source": [
        "# 1. Numpy 기초: 배열과 벡터 연산"
      ]
    },
    {
      "cell_type": "markdown",
      "metadata": {
        "id": "TGyOhrRZ4BlR"
      },
      "source": [
        "## 1.1. NumPy란?\n",
        "\n",
        "- NumPy는 Numerical Python의 줄임말\n",
        "- 파이썬에서 산술 계산을 위한 가장 중요한 필수 패키지 중 하나임.\n",
        "- 과학 계산을 위한 대부분의 패키지는 NumPy의 배열 객체를 데이터 교환을 위한 공통 언어처럼 사용함.\n",
        "- NumPy에서 제공하는 것\n",
        "    - 효율적인 다차원 배열인 ndarray는 빠른 배열 계산과 유연한 브로드캐스팅 기능을 제공함.\n",
        "    - 반복문을 작성할 필요 없이 전체 데이터 배열을 빠르게 계산할 수 있는 표준 수학 함수\n",
        "    - 배열 데이터를 디스크에 쓰거나 읽을 수 있는 도구와 메모리에 적재된 파일을 다루는 도구\n",
        "    - 선형대수, 난수 생성기, 푸리에 변환 기능\n",
        "    - C, C++, 포트란으로 작성한 코드를 연결할 수 있는 C API\n",
        "- NumPy 자체는 모델링이나 과학 계산을 위한 기능을 제공하지 않음.\n",
        "- 먼저 NumPy 배열과 배열 기반 연산에 대한 이해를 한 다음 Pandas 같은 배열 기반 도구를 사용하면 훨씬 더 효율적임.\n",
        "- NumPy는 대용량 데이터 배열을 효율적으로 다룰 수 있도록 설계되었음.\n",
        "    - NumPy는 내부적으로 데이터를 다른 내장 파이썬 객체와 구분된 연속된 메모리 블록에 저장함.\n",
        "    - NumPy의 각종 알고리즘은 모두 C로 작성되어 타입 검사나 다른 오버헤드 없이 메모리를 직접 조작할 수 있음.\n",
        "    - NumPy 배열은 또한 내장 파이썬의 연속된 자료형들보다 훨씬 더 적은 메모리를 사용함.\n",
        "    - NumPy 연산은 파이썬 반복문을 사용하지 않고 전체 배열에 대한 복잡한 계산을 수행할 수 있음.\n"
      ]
    },
    {
      "cell_type": "markdown",
      "metadata": {
        "id": "05nhtNv54BlS"
      },
      "source": [
        "## 1.2. NumPy ndarray: 다차원 배열 객체\n",
        "- ndarray: N차원의 배열 객체로 파이썬에서 사용할 수 있고, 대규모 데이터 집합을 담을 수 있는 빠르고 유연한 자료구조\n"
      ]
    },
    {
      "cell_type": "code",
      "execution_count": 1,
      "metadata": {
        "id": "1g82VByZq5io"
      },
      "outputs": [],
      "source": [
        "def line():\n",
        "    print('-'*50)"
      ]
    },
    {
      "cell_type": "code",
      "execution_count": 4,
      "metadata": {
        "id": "amCVJMoT4BlT"
      },
      "outputs": [],
      "source": [
        "# 동일 결과를 얻기 위한 사전 세팅\n",
        "\n",
        "import numpy as np\n",
        "np.random.seed(12345)\n",
        "\n",
        "import matplotlib.pyplot as plt\n",
        "plt.rc(\"figure\", figsize=(10, 6))\n",
        "plt.rc('font', family='AppleGothic')\n",
        "plt.rc('axes', unicode_minus=False)\n",
        "np.set_printoptions(precision=4, suppress=True)"
      ]
    },
    {
      "cell_type": "code",
      "execution_count": 5,
      "metadata": {
        "colab": {
          "base_uri": "https://localhost:8080/"
        },
        "id": "bze3audm4BlU",
        "outputId": "51c81113-0b34-4421-83e2-a2dbe834c44d"
      },
      "outputs": [
        {
          "name": "stdout",
          "output_type": "stream",
          "text": [
            "[     0      1      2 ... 999997 999998 999999]\n",
            "<class 'numpy.ndarray'>\n"
          ]
        }
      ],
      "source": [
        "# ndarray 만들기1 - np.arange()\n",
        "\n",
        "import numpy as np\n",
        "\n",
        "my_arr = np.arange(1_000_000)\n",
        "my_list = list(range(1_000_000))\n",
        "\n",
        "print(my_arr)\n",
        "print(type(my_arr))"
      ]
    },
    {
      "cell_type": "code",
      "execution_count": 6,
      "metadata": {
        "colab": {
          "base_uri": "https://localhost:8080/"
        },
        "id": "aNWSy25c4BlU",
        "outputId": "118cb35b-d910-40b7-c6f7-51c41519e0a3"
      },
      "outputs": [
        {
          "name": "stdout",
          "output_type": "stream",
          "text": [
            "965 µs ± 109 µs per loop (mean ± std. dev. of 7 runs, 1000 loops each)\n",
            "92.1 ms ± 21.1 ms per loop (mean ± std. dev. of 7 runs, 10 loops each)\n"
          ]
        }
      ],
      "source": [
        "# numpy ndarray 연산 속도 비교\n",
        "\n",
        "%timeit my_arr2 = my_arr * 2\n",
        "%timeit my_list2 = [x * 2 for x in my_list]"
      ]
    },
    {
      "cell_type": "code",
      "execution_count": 3,
      "metadata": {
        "colab": {
          "base_uri": "https://localhost:8080/"
        },
        "id": "5yHQvqk14BlW",
        "outputId": "458ba56b-ec80-4af5-b73b-3f9a98c5b557"
      },
      "outputs": [
        {
          "name": "stdout",
          "output_type": "stream",
          "text": [
            "[10 20 30 40]\n",
            "<class 'numpy.ndarray'>\n",
            "--------------------------------------------------\n",
            "[[ 1.5 -0.1  3. ]\n",
            " [ 0.  -3.   6.5]]\n",
            "<class 'numpy.ndarray'>\n"
          ]
        }
      ],
      "source": [
        "# ndarray 만들기2 - np.array()\n",
        "\n",
        "import numpy as np\n",
        "\n",
        "vect = np.array([10, 20, 30, 40])\n",
        "print(vect)\n",
        "print(type(vect))\n",
        "line()\n",
        "\n",
        "matr = np.array([[1.5, -0.1, 3], [0, -3, 6.5]])\n",
        "print(matr)\n",
        "print(type(matr))\n"
      ]
    },
    {
      "cell_type": "code",
      "execution_count": 7,
      "metadata": {
        "colab": {
          "base_uri": "https://localhost:8080/"
        },
        "id": "tqLTHa794BlW",
        "outputId": "b3d381b4-4989-4f51-c3da-f17509bf6226"
      },
      "outputs": [
        {
          "name": "stdout",
          "output_type": "stream",
          "text": [
            "[[ 15.  -1.  30.]\n",
            " [  0. -30.  65.]]\n",
            "--------------------------------------------------\n",
            "[[ 3.  -0.2  6. ]\n",
            " [ 0.  -6.  13. ]]\n"
          ]
        }
      ],
      "source": [
        "# ndarray 산술 연산\n",
        "\n",
        "print(matr * 10)\n",
        "line()\n",
        "print(matr + matr)"
      ]
    },
    {
      "cell_type": "code",
      "execution_count": 8,
      "metadata": {
        "colab": {
          "base_uri": "https://localhost:8080/"
        },
        "id": "o8dZQ4SH4BlW",
        "outputId": "8d911957-fe88-49f1-d06f-d17e8fb327bd"
      },
      "outputs": [
        {
          "name": "stdout",
          "output_type": "stream",
          "text": [
            "(2, 3)\n",
            "float64\n"
          ]
        }
      ],
      "source": [
        "# ndarray의 배열 크기를 알려주는 shape\n",
        "# ndarray의 요소 data type을 알려주는 dtype\n",
        "\n",
        "print(matr.shape)\n",
        "print(matr.dtype)"
      ]
    },
    {
      "cell_type": "markdown",
      "metadata": {
        "id": "6mok8DgC4BlX"
      },
      "source": [
        "### 1.2.1. ndarray 생성\n",
        "- np.array() 함수 사용하기\n",
        "- numpy가 가지고 있는 다양한 배열 생성 함수\n",
        "    - array(): 데이터(리스트, 튜플, 배열 또는 다른 순차형 데이터)를 ndarray로 변환하며 dtype을 명시하지 않은 경우 자료형을 추론하여 저장함. 기본적으로 입력 데이터는 복사됨.\n",
        "    - asarray(): 입력 데이터를 ndarray로 변환하지만 입력 데이터가 이미 ndarray일 경우 복사가 일어나지 않음.\n",
        "    - arange(): 내장 range 함수와 유사하지만 리스트 대신 ndarray를 반환함.\n",
        "    - ones(): 주어진 dtype과 모양을 가지는 배열을 생성하고 내용을 모두 1로 초기화함.\n",
        "    - ones_like(): 주어진 배열과 동일한 모양과 dtype을 갖는 배열을 새로 생성해 내용을 모두 1로 초기화함.\n",
        "    - zeros(), zeros_like(): ones, ones_like와 동일하지만 내용을 0으로 채움.\n",
        "    - empty(), empty_like(): 메모리를 할당해 새로운 배열을 생성하지만 ones나 zeros처럼 값을 초기화하지 않음.\n",
        "    - full(), full_like(): 인수로 받은 dtype과 배열의 모양을 가지는 배열을 생성하고 인수로 받은 값으로 배열을 채움.\n",
        "    - eye(), identity(): N X N 크기의 단위행렬을 생성한다(좌상단에서 우하단을 잇는 대각선은 1로 채워지고 나머지는 0으로 채워짐."
      ]
    },
    {
      "cell_type": "code",
      "execution_count": 9,
      "metadata": {
        "colab": {
          "base_uri": "https://localhost:8080/"
        },
        "id": "maKOKL_y4BlX",
        "outputId": "1ec67771-e3af-4be3-bcd9-34420f035c35"
      },
      "outputs": [
        {
          "data": {
            "text/plain": [
              "array([6. , 7.5, 8. , 0. , 1. ])"
            ]
          },
          "execution_count": 9,
          "metadata": {},
          "output_type": "execute_result"
        }
      ],
      "source": [
        "# ndarray 생성1\n",
        "\n",
        "data1 = [6, 7.5, 8, 0, 1]\n",
        "arr1 = np.array(data1)\n",
        "arr1"
      ]
    },
    {
      "cell_type": "code",
      "execution_count": 10,
      "metadata": {
        "colab": {
          "base_uri": "https://localhost:8080/"
        },
        "id": "HB_-d_Nc4BlY",
        "outputId": "d7b31b43-ccc2-45b3-85df-826b7f3a61d4"
      },
      "outputs": [
        {
          "name": "stdout",
          "output_type": "stream",
          "text": [
            "(2, 4)\n"
          ]
        },
        {
          "data": {
            "text/plain": [
              "array([[1, 2, 3, 4],\n",
              "       [5, 6, 7, 8]])"
            ]
          },
          "execution_count": 10,
          "metadata": {},
          "output_type": "execute_result"
        }
      ],
      "source": [
        "# ndarray 생성2\n",
        "\n",
        "data2 = [[1, 2, 3, 4], [5, 6, 7, 8]]\n",
        "arr2 = np.array(data2)\n",
        "print(arr2.shape)\n",
        "arr2\n"
      ]
    },
    {
      "cell_type": "code",
      "execution_count": null,
      "metadata": {
        "colab": {
          "base_uri": "https://localhost:8080/"
        },
        "id": "HcrwwkDw4BlY",
        "outputId": "e6702947-25fd-4859-bfe1-faff346db2cd"
      },
      "outputs": [
        {
          "name": "stdout",
          "output_type": "stream",
          "text": [
            "2\n",
            "(2, 4)\n"
          ]
        }
      ],
      "source": [
        "# ndarray의 차원을 알려주는 ndim\n",
        "\n",
        "print(arr2.ndim)\n",
        "print(arr2.shape)"
      ]
    },
    {
      "cell_type": "code",
      "execution_count": null,
      "metadata": {
        "colab": {
          "base_uri": "https://localhost:8080/"
        },
        "id": "clqbJxEl4BlZ",
        "outputId": "5f301bcd-80ea-4448-d349-70932ecf40ed"
      },
      "outputs": [
        {
          "name": "stdout",
          "output_type": "stream",
          "text": [
            "float64\n",
            "int64\n"
          ]
        }
      ],
      "source": [
        "# ndarray 요소 data type을 알려주는 dtype\n",
        "\n",
        "print(arr1.dtype)\n",
        "print(arr2.dtype)"
      ]
    },
    {
      "cell_type": "code",
      "execution_count": 11,
      "metadata": {
        "colab": {
          "base_uri": "https://localhost:8080/"
        },
        "id": "Partpwqm4BlZ",
        "outputId": "5c7a6788-6b11-4a7c-8ea5-c89b8f0dfaa4"
      },
      "outputs": [
        {
          "name": "stdout",
          "output_type": "stream",
          "text": [
            "[0. 0. 0. 0. 0. 0. 0. 0. 0. 0.]\n",
            "[[0. 0. 0. 0. 0. 0.]\n",
            " [0. 0. 0. 0. 0. 0.]\n",
            " [0. 0. 0. 0. 0. 0.]]\n"
          ]
        }
      ],
      "source": [
        "# numpy.zeros() 함수를 이용하여 0으로 채워진 ndarray 만들기\n",
        "\n",
        "arr_z = np.zeros(10)\n",
        "arr_z2 = np.zeros((3, 6))\n",
        "\n",
        "print(arr_z)\n",
        "print(arr_z2)"
      ]
    },
    {
      "cell_type": "code",
      "execution_count": 12,
      "metadata": {
        "colab": {
          "base_uri": "https://localhost:8080/"
        },
        "id": "HBtl0Y4c4BlZ",
        "outputId": "b37b374f-519b-4fb2-8f4f-afe4db48e278"
      },
      "outputs": [
        {
          "name": "stdout",
          "output_type": "stream",
          "text": [
            "[[[0. 0.]\n",
            "  [0. 0.]\n",
            "  [0. 0.]]\n",
            "\n",
            " [[0. 0.]\n",
            "  [0. 0.]\n",
            "  [0. 0.]]]\n"
          ]
        }
      ],
      "source": [
        "# numpy.empty() 함수를 이용하여 초기화 되지 않은 ndarray 생성\n",
        "# 0으로 초기화 될거라고 기대하지 않는 게 좋음. 안전하지 않음.\n",
        "\n",
        "arr_emp = np.empty((2, 3, 2))\n",
        "\n",
        "print(arr_emp)"
      ]
    },
    {
      "cell_type": "code",
      "execution_count": 13,
      "metadata": {
        "colab": {
          "base_uri": "https://localhost:8080/"
        },
        "id": "1y1xuXbQ4Bla",
        "outputId": "e26af620-bc37-4bfb-cca7-497430c1c2be"
      },
      "outputs": [
        {
          "name": "stdout",
          "output_type": "stream",
          "text": [
            "[ 0  1  2  3  4  5  6  7  8  9 10 11 12 13 14]\n"
          ]
        }
      ],
      "source": [
        "# numpy.arange() 함수로 ndarray 생성하기\n",
        "\n",
        "arr_arn = np.arange(15)\n",
        "print(arr_arn)"
      ]
    },
    {
      "cell_type": "markdown",
      "metadata": {
        "id": "kAJRLHtw4Bla"
      },
      "source": [
        "##### 1.2.1.1. ndarray 생성 연습문제\n",
        "- 문제 1: 1, 2, 3으로 이루어진 1차원 numpy 배열을 생성하세요.\n",
        "- 문제 2: 모든 요소가 0으로 초기화된 3x3 크기의 2차원 numpy 배열을 생성하세요.\n",
        "- 문제 3: 모든 요소가 1로 초기화된 2x2x2 크기의 3차원 numpy 배열을 생성하세요.\n",
        "- 문제 4: 0부터 9까지의 정수로 이루어진 1차원 numpy 배열을 생성하세요.\n",
        "- 문제 5: (np.linspace) 0부터 1까지 범위에서 5개의 등간격으로 값을 가지는 1차원 numpy 배열을 생성하세요.\n",
        "- 문제 6: 4x4 크기의 대각 행렬을 나타내는 2차원 numpy 배열을 생성하세요.\n",
        "- 문제 7: (np.random.rand) 2x3 크기의 2차원 numpy 배열을 생성하세요. 무작위로 생성된 값으로 배열을 초기화하세요.\n",
        "- 문제 8: (np.random.randint) 1부터 10 사이의 정수로 이루어진 3x3 크기의 2차원 numpy 배열을 생성하세요.\n",
        "- 문제 9: 2x2 크기의 모든 요소가 7로 초기화된 다차원 numpy 배열을 생성하세요.\n"
      ]
    },
    {
      "cell_type": "code",
      "execution_count": null,
      "metadata": {},
      "outputs": [],
      "source": []
    },
    {
      "cell_type": "markdown",
      "metadata": {
        "id": "i-Ma0T6H4Bla"
      },
      "source": [
        "### 1.2.2. ndarray의 자료형"
      ]
    },
    {
      "cell_type": "code",
      "execution_count": 18,
      "metadata": {
        "colab": {
          "base_uri": "https://localhost:8080/"
        },
        "id": "uBBXt2754Blb",
        "outputId": "988639f8-bbce-441f-ddf2-f7a7f3fe83ce"
      },
      "outputs": [
        {
          "name": "stdout",
          "output_type": "stream",
          "text": [
            "float64\n",
            "int32\n",
            "--------------------------------------------------\n",
            "[1. 2. 3.]\n",
            "[1 2 3]\n"
          ]
        }
      ],
      "source": [
        "# dtype 지정\n",
        "\n",
        "import numpy as np\n",
        "\n",
        "arr1 = np.array([1, 2, 3], dtype=np.float64)\n",
        "arr2 = np.array([1, 2, 3], dtype=np.int32)\n",
        "\n",
        "print(arr1.dtype)\n",
        "print(arr2.dtype)\n",
        "line()\n",
        "print(arr1)\n",
        "print(arr2)"
      ]
    },
    {
      "cell_type": "code",
      "execution_count": 19,
      "metadata": {
        "colab": {
          "base_uri": "https://localhost:8080/"
        },
        "id": "fke2O4wO4Blb",
        "outputId": "b778e14e-3fdd-41d0-857c-8e8813a07eef"
      },
      "outputs": [
        {
          "name": "stdout",
          "output_type": "stream",
          "text": [
            "int64\n",
            "[1. 2. 3. 4. 5.]\n",
            "float64\n"
          ]
        }
      ],
      "source": [
        "# astype을 이용한 명시적 형 변환1\n",
        "\n",
        "arr = np.array([1, 2, 3, 4, 5])\n",
        "print(arr.dtype)\n",
        "\n",
        "float_arr = arr.astype(np.float64)\n",
        "print(float_arr)\n",
        "print(float_arr.dtype)"
      ]
    },
    {
      "cell_type": "code",
      "execution_count": 20,
      "metadata": {
        "colab": {
          "base_uri": "https://localhost:8080/"
        },
        "id": "s8qDA3Dr4Blb",
        "outputId": "febb30ca-f59d-47c1-bc9d-722a9180e7c0"
      },
      "outputs": [
        {
          "data": {
            "text/plain": [
              "array([ 3, -1, -2,  0, 12, 10], dtype=int32)"
            ]
          },
          "execution_count": 20,
          "metadata": {},
          "output_type": "execute_result"
        }
      ],
      "source": [
        "# astype을 이용한 명시적 형 변환2\n",
        "\n",
        "arr = np.array([3.7, -1.2, -2.6, 0.5, 12.9, 10.1])\n",
        "arr\n",
        "arr.astype(np.int32)"
      ]
    },
    {
      "cell_type": "code",
      "execution_count": 21,
      "metadata": {
        "colab": {
          "base_uri": "https://localhost:8080/"
        },
        "id": "TA0x196D4Blb",
        "outputId": "28ff4769-5c2a-423b-9273-e9da10757982"
      },
      "outputs": [
        {
          "data": {
            "text/plain": [
              "array([ 1.25, -9.6 , 42.  ])"
            ]
          },
          "execution_count": 21,
          "metadata": {},
          "output_type": "execute_result"
        }
      ],
      "source": [
        "# astype을 이용한 명시적 형 변환3\n",
        "# 숫자를 가진 문자열은 astype을 이용해 숫자형으로 변환할 수 있음.\n",
        "\n",
        "numeric_strings = np.array([\"1.25\", \"-9.6\", \"42\"], dtype=np.string_)\n",
        "numeric_strings.astype(float)"
      ]
    },
    {
      "cell_type": "code",
      "execution_count": 26,
      "metadata": {
        "colab": {
          "base_uri": "https://localhost:8080/"
        },
        "id": "rXWEJwfOum1U",
        "outputId": "47a7ba85-e26f-4837-908d-f01343af4a85"
      },
      "outputs": [
        {
          "name": "stdout",
          "output_type": "stream",
          "text": [
            "|S4\n",
            "--------------------------------------------------\n",
            "--------------------------------------------------\n",
            "float64\n"
          ]
        }
      ],
      "source": [
        "# astype을 이용한 명시적 형 변환3\n",
        "# 숫자를 가진 문자열은 astype을 이용해 숫자형으로 변환할 수 있음.\n",
        "\n",
        "numeric_strings = np.array([1.25, -9.6, 42], dtype=np.string_)\n",
        "print(numeric_strings.dtype)\n",
        "line()\n",
        "numeric_strings = numeric_strings.astype(float)\n",
        "line()\n",
        "print(numeric_strings.dtype)\n"
      ]
    },
    {
      "cell_type": "code",
      "execution_count": null,
      "metadata": {
        "id": "ZjlKHp0p4Blb",
        "outputId": "a96276d3-c28c-48a0-863c-b488a5772985"
      },
      "outputs": [
        {
          "name": "stdout",
          "output_type": "stream",
          "text": [
            "int64\n"
          ]
        },
        {
          "data": {
            "text/plain": [
              "array([0., 1., 2., 3., 4., 5., 6., 7., 8., 9.])"
            ]
          },
          "execution_count": 53,
          "metadata": {},
          "output_type": "execute_result"
        }
      ],
      "source": [
        "# 다른 array의 dtype으로 dtype 설정하기\n",
        "\n",
        "int_array = np.arange(10)\n",
        "print(int_array.dtype)\n",
        "calibers = np.array([.22, .270, .357, .380, .44, .50], dtype=np.float64)\n",
        "int_array.astype(calibers.dtype)"
      ]
    },
    {
      "cell_type": "code",
      "execution_count": 41,
      "metadata": {
        "colab": {
          "base_uri": "https://localhost:8080/"
        },
        "id": "cvieuV2z4Blc",
        "outputId": "95d87f6c-ecf8-48cf-aeb5-40b4f52fe2e1"
      },
      "outputs": [
        {
          "data": {
            "text/plain": [
              "array([0, 0, 0, 0, 0, 0, 0, 0], dtype=uint32)"
            ]
          },
          "execution_count": 41,
          "metadata": {},
          "output_type": "execute_result"
        }
      ],
      "source": [
        "# unsigned integer type\n",
        "\n",
        "zeros_uint32 = np.zeros(8, dtype=\"u4\")\n",
        "zeros_uint32"
      ]
    },
    {
      "cell_type": "code",
      "execution_count": 42,
      "metadata": {
        "colab": {
          "base_uri": "https://localhost:8080/"
        },
        "id": "x2NcaZ_a4Bld",
        "outputId": "973e4796-226f-4b88-d7cd-43e99d2c95fb"
      },
      "outputs": [
        {
          "name": "stdout",
          "output_type": "stream",
          "text": [
            "[[ 1.+2.j  2.-3.j  3.+4.j]\n",
            " [-1.-1.j  0.+2.j  4.-2.j]]\n",
            "데이터 타입: complex128\n"
          ]
        }
      ],
      "source": [
        "# 복소수 데이터 타입\n",
        "\n",
        "complex_matrix = np.array([[1 + 2j, 2 - 3j, 3 + 4j], [-1 - 1j, 0 + 2j, 4 - 2j]], dtype=np.complex128)\n",
        "print(complex_matrix)\n",
        "print(\"데이터 타입:\", complex_matrix.dtype)"
      ]
    },
    {
      "cell_type": "markdown",
      "metadata": {
        "id": "emsunYtm4Blc"
      },
      "source": [
        "### 1.2.3. ndarray 생성과 dtype 연습문제\n",
        "- 문제1: 0부터 10까지의 정수 중에서 짝수만을 포함하는 numpy 배열을 생성하고 데이터 타입(dtype)을 출력하세요.\n",
        "- 문제2: 3x4 크기의 모든 요소가 0인 numpy 배열을 생성하고 데이터 타입(dtype)을 출력하세요.\n",
        "- 문제3: 5x5 크기의 단위 행렬(Identity matrix)을 생성하고 데이터 타입(dtype)을 출력하세요.\n",
        "- 문제4: 3x3 크기의 모든 요소가 2인 배열을 만들고, 배열의 데이터 타입을 float64로 변경하세요.\n",
        "- 문제5: 다음 조건에 맞는 numpy 배열을 생성하세요.\n",
        "    - 2x3 크기의 배열(임의의 데이터)\n",
        "    - 데이터 타입(dtype)은 complex128 (복소수)"
      ]
    },
    {
      "cell_type": "code",
      "execution_count": null,
      "metadata": {},
      "outputs": [],
      "source": []
    },
    {
      "cell_type": "markdown",
      "metadata": {
        "id": "7ogtef8Y4Bld"
      },
      "source": [
        "### 1.2.5. ndarray의 산술 연산\n",
        "- 배열은 for 문을 사용하지 않고도 데이터를 일괄 처리할 수 있어 매우 중요함.\n",
        "- 이를 벡터화라고 부르며, 크기가 동일한 배열 간의 산술 연산은 배열의 각 원소 단위로 적용됨."
      ]
    },
    {
      "cell_type": "code",
      "execution_count": 43,
      "metadata": {
        "colab": {
          "base_uri": "https://localhost:8080/"
        },
        "id": "Cpiu4yi94Bld",
        "outputId": "117d4376-8891-4e98-f549-ac1655debf8c"
      },
      "outputs": [
        {
          "data": {
            "text/plain": [
              "array([[1., 2., 3.],\n",
              "       [4., 5., 6.]])"
            ]
          },
          "execution_count": 43,
          "metadata": {},
          "output_type": "execute_result"
        }
      ],
      "source": [
        "arr = np.array([[1., 2., 3.], [4., 5., 6.]])\n",
        "arr\n"
      ]
    },
    {
      "cell_type": "code",
      "execution_count": 44,
      "metadata": {
        "colab": {
          "base_uri": "https://localhost:8080/"
        },
        "id": "G3DuSOes4Ble",
        "outputId": "92faa34b-232d-4270-ee79-33308602d2e9"
      },
      "outputs": [
        {
          "name": "stdout",
          "output_type": "stream",
          "text": [
            "[[ 1.  4.  9.]\n",
            " [16. 25. 36.]]\n",
            "[[0. 0. 0.]\n",
            " [0. 0. 0.]]\n"
          ]
        }
      ],
      "source": [
        "print(arr * arr)\n",
        "print(arr - arr)"
      ]
    },
    {
      "cell_type": "code",
      "execution_count": 45,
      "metadata": {
        "colab": {
          "base_uri": "https://localhost:8080/"
        },
        "id": "QAN4AVjE4Ble",
        "outputId": "97cc88aa-c7b0-4e82-db2c-279c72038c63"
      },
      "outputs": [
        {
          "name": "stdout",
          "output_type": "stream",
          "text": [
            "[[1.     0.5    0.3333]\n",
            " [0.25   0.2    0.1667]]\n",
            "[[ 1.  4.  9.]\n",
            " [16. 25. 36.]]\n"
          ]
        }
      ],
      "source": [
        "# 스칼라 인수가 포함된 산술 연산의 경우 배열 내의 모든 원소에 스칼라 인수가 적용됨\n",
        "\n",
        "print(1 / arr) # 브로드 캐스팅\n",
        "print(arr ** 2)"
      ]
    },
    {
      "cell_type": "code",
      "execution_count": 46,
      "metadata": {
        "colab": {
          "base_uri": "https://localhost:8080/"
        },
        "id": "ZZgyl1934Ble",
        "outputId": "fcc80b9e-b466-4874-d4d7-6204381f042a"
      },
      "outputs": [
        {
          "data": {
            "text/plain": [
              "array([[ 0.,  4.,  1.],\n",
              "       [ 7.,  2., 12.]])"
            ]
          },
          "execution_count": 46,
          "metadata": {},
          "output_type": "execute_result"
        }
      ],
      "source": [
        "arr2 = np.array([[0., 4., 1.], [7., 2., 12.]])\n",
        "arr2\n"
      ]
    },
    {
      "cell_type": "code",
      "execution_count": 47,
      "metadata": {
        "colab": {
          "base_uri": "https://localhost:8080/"
        },
        "id": "aWNqDcPW4Ble",
        "outputId": "cf1e016e-c7dc-49a9-af1b-3d758771c71b"
      },
      "outputs": [
        {
          "name": "stdout",
          "output_type": "stream",
          "text": [
            "[[ 0.  4.  1.]\n",
            " [ 7.  2. 12.]]\n",
            "--------------------------------------------------\n",
            "[[1. 2. 3.]\n",
            " [4. 5. 6.]]\n"
          ]
        },
        {
          "data": {
            "text/plain": [
              "array([[False,  True, False],\n",
              "       [ True, False,  True]])"
            ]
          },
          "execution_count": 47,
          "metadata": {},
          "output_type": "execute_result"
        }
      ],
      "source": [
        "# 크기가 동일한 배열 간의 비교 연산은 불리언 배열을 반환함.\n",
        "print(arr2)\n",
        "line()\n",
        "print(arr)\n",
        "\n",
        "arr2 > arr\n"
      ]
    },
    {
      "cell_type": "code",
      "execution_count": 48,
      "metadata": {
        "colab": {
          "base_uri": "https://localhost:8080/",
          "height": 235
        },
        "id": "Zly2SHiy4Ble",
        "outputId": "cc8247f8-a996-42db-c97e-2b8481b82957"
      },
      "outputs": [
        {
          "ename": "ValueError",
          "evalue": "operands could not be broadcast together with shapes (2,3) (2,4) ",
          "output_type": "error",
          "traceback": [
            "\u001b[0;31m---------------------------------------------------------------------------\u001b[0m",
            "\u001b[0;31mValueError\u001b[0m                                Traceback (most recent call last)",
            "\u001b[0;32m<ipython-input-48-b4566c568be2>\u001b[0m in \u001b[0;36m<cell line: 6>\u001b[0;34m()\u001b[0m\n\u001b[1;32m      4\u001b[0m \u001b[0marr3\u001b[0m \u001b[0;34m=\u001b[0m\u001b[0mnp\u001b[0m\u001b[0;34m.\u001b[0m\u001b[0mzeros\u001b[0m\u001b[0;34m(\u001b[0m\u001b[0;34m(\u001b[0m\u001b[0;36m2\u001b[0m\u001b[0;34m,\u001b[0m\u001b[0;36m4\u001b[0m\u001b[0;34m)\u001b[0m\u001b[0;34m)\u001b[0m\u001b[0;34m\u001b[0m\u001b[0;34m\u001b[0m\u001b[0m\n\u001b[1;32m      5\u001b[0m \u001b[0;34m\u001b[0m\u001b[0m\n\u001b[0;32m----> 6\u001b[0;31m \u001b[0marr\u001b[0m \u001b[0;34m>\u001b[0m \u001b[0marr3\u001b[0m\u001b[0;34m\u001b[0m\u001b[0;34m\u001b[0m\u001b[0m\n\u001b[0m",
            "\u001b[0;31mValueError\u001b[0m: operands could not be broadcast together with shapes (2,3) (2,4) "
          ]
        }
      ],
      "source": [
        "# 크기가 동일한 배열 간의 비교 연산은 불리언 배열을 반환함.\n",
        "# 크기가 다르면 에러가 발생함.\n",
        "\n",
        "arr3 =np.zeros((2,4))\n",
        "\n",
        "arr > arr3"
      ]
    },
    {
      "cell_type": "markdown",
      "metadata": {
        "id": "-HIwQj2W4Blf"
      },
      "source": [
        "### 1.2.6. 색인과 슬라이싱 기초\n",
        "- 데이터의 부분집합이나 개별 원소를 선택하는 방법"
      ]
    },
    {
      "cell_type": "code",
      "execution_count": 50,
      "metadata": {
        "colab": {
          "base_uri": "https://localhost:8080/"
        },
        "id": "dq23rdTV4Blf",
        "outputId": "49bf09b0-3aea-4b12-e840-472a7bfe721c"
      },
      "outputs": [
        {
          "data": {
            "text/plain": [
              "array([0, 1, 2, 3, 4, 5, 6, 7, 8, 9])"
            ]
          },
          "execution_count": 50,
          "metadata": {},
          "output_type": "execute_result"
        }
      ],
      "source": [
        "# 1차원 배열은 파이썬의 리스트와 비슷하게 작용함.\n",
        "# 1차원 배열의 다른 이름은 벡터\n",
        "\n",
        "arr = np.arange(10)\n",
        "arr\n"
      ]
    },
    {
      "cell_type": "code",
      "execution_count": 51,
      "metadata": {
        "colab": {
          "base_uri": "https://localhost:8080/"
        },
        "id": "fuqJyG0z4Blf",
        "outputId": "c4fa2763-b75b-4711-e416-df96bc8de584"
      },
      "outputs": [
        {
          "name": "stdout",
          "output_type": "stream",
          "text": [
            "5\n",
            "[5 6 7]\n"
          ]
        }
      ],
      "source": [
        "print(arr[5])\n",
        "print(arr[5:8])\n"
      ]
    },
    {
      "cell_type": "code",
      "execution_count": 52,
      "metadata": {
        "colab": {
          "base_uri": "https://localhost:8080/"
        },
        "id": "lJ9DLgH84Blf",
        "outputId": "b51c3d70-2b49-4c98-ad8b-4822e5d77647"
      },
      "outputs": [
        {
          "data": {
            "text/plain": [
              "array([ 0,  1,  2,  3,  4, 12, 12, 12,  8,  9])"
            ]
          },
          "execution_count": 52,
          "metadata": {},
          "output_type": "execute_result"
        }
      ],
      "source": [
        "# 배열 슬라이싱과 값 할당 -> 브로드캐스팅\n",
        "\n",
        "arr[5:8] = 12\n",
        "arr"
      ]
    },
    {
      "cell_type": "code",
      "execution_count": 53,
      "metadata": {
        "colab": {
          "base_uri": "https://localhost:8080/"
        },
        "id": "JnV_nqt34Blg",
        "outputId": "6b9fec10-750d-4175-f3f6-5b09067291bd"
      },
      "outputs": [
        {
          "data": {
            "text/plain": [
              "array([12, 12, 12])"
            ]
          },
          "execution_count": 53,
          "metadata": {},
          "output_type": "execute_result"
        }
      ],
      "source": [
        "# 여기서 주의할 점은 arr_slice가 arr와 완전 독립된 개체가 아니라는 점.\n",
        "# ndarray 슬라이싱은 원본 배열의 view 임으로, 슬라이싱의 value가 바뀌게 되면, 원본 배열의 내용도 바뀜.\n",
        "\n",
        "arr_slice = arr[5:8]\n",
        "arr_slice"
      ]
    },
    {
      "cell_type": "code",
      "execution_count": 54,
      "metadata": {
        "colab": {
          "base_uri": "https://localhost:8080/"
        },
        "id": "G3pTnWPK4Blg",
        "outputId": "a0d88067-e055-48d4-d0ed-3b016073d60d"
      },
      "outputs": [
        {
          "data": {
            "text/plain": [
              "array([    0,     1,     2,     3,     4,    12, 12345,    12,     8,\n",
              "           9])"
            ]
          },
          "execution_count": 54,
          "metadata": {},
          "output_type": "execute_result"
        }
      ],
      "source": [
        "arr_slice[1] = 12345\n",
        "arr"
      ]
    },
    {
      "cell_type": "code",
      "execution_count": 55,
      "metadata": {
        "colab": {
          "base_uri": "https://localhost:8080/"
        },
        "id": "QtAlnBya4Blg",
        "outputId": "cd526f3e-282f-4688-f0c7-9f8ff56eb33a"
      },
      "outputs": [
        {
          "data": {
            "text/plain": [
              "array([ 0,  1,  2,  3,  4, 64, 64, 64,  8,  9])"
            ]
          },
          "execution_count": 55,
          "metadata": {},
          "output_type": "execute_result"
        }
      ],
      "source": [
        "arr_slice[:] = 64\n",
        "arr"
      ]
    },
    {
      "cell_type": "code",
      "execution_count": 56,
      "metadata": {
        "colab": {
          "base_uri": "https://localhost:8080/"
        },
        "id": "y9Z2ucE04Blh",
        "outputId": "99b32dea-85a5-4b6b-e4a2-d82939bcb985"
      },
      "outputs": [
        {
          "name": "stdout",
          "output_type": "stream",
          "text": [
            "[-100 -100 -100]\n",
            "[ 0  1  2  3  4 64 64 64  8  9]\n"
          ]
        }
      ],
      "source": [
        "# 만약 view가 아니라 복사된, 원본과 완전 분리된 배열을 얻고자 한다면 copy() 함수를 명시적으로 사용할 것.\n",
        "# pandas 또한 이와 같은 룰로 작동함.\n",
        "\n",
        "arr_copy = arr[:3].copy()\n",
        "arr_copy[:] = -100\n",
        "\n",
        "print(arr_copy)\n",
        "print(arr)"
      ]
    },
    {
      "cell_type": "code",
      "execution_count": 57,
      "metadata": {
        "colab": {
          "base_uri": "https://localhost:8080/"
        },
        "id": "GepgVGsE4Blh",
        "outputId": "308ef37b-7075-4789-b287-ca14404bfee5"
      },
      "outputs": [
        {
          "data": {
            "text/plain": [
              "array([[1, 2, 3],\n",
              "       [4, 5, 6],\n",
              "       [7, 8, 9]])"
            ]
          },
          "execution_count": 57,
          "metadata": {},
          "output_type": "execute_result"
        }
      ],
      "source": [
        "# 2차원 배열 색인(indexing)\n",
        "\n",
        "arr2d = np.array([[1, 2, 3], [4, 5, 6], [7, 8, 9]])\n",
        "arr2d\n"
      ]
    },
    {
      "cell_type": "code",
      "execution_count": 58,
      "metadata": {
        "colab": {
          "base_uri": "https://localhost:8080/"
        },
        "id": "P5S1fFSOHTWa",
        "outputId": "64da4a34-5b44-4aae-c123-5601f5d8fee6"
      },
      "outputs": [
        {
          "data": {
            "text/plain": [
              "array([7, 8, 9])"
            ]
          },
          "execution_count": 58,
          "metadata": {},
          "output_type": "execute_result"
        }
      ],
      "source": [
        "# 배열의 행 색인\n",
        "\n",
        "arr2d[2]"
      ]
    },
    {
      "cell_type": "code",
      "execution_count": 70,
      "metadata": {
        "colab": {
          "base_uri": "https://localhost:8080/"
        },
        "id": "iTaZWqMD4Blh",
        "outputId": "0cc3558a-6139-41f8-86ae-f11f42dfba03"
      },
      "outputs": [
        {
          "name": "stdout",
          "output_type": "stream",
          "text": [
            "3\n",
            "3\n"
          ]
        }
      ],
      "source": [
        "# 원소 색인\n",
        "# 아래 두 예시는 동일한 결과를 나타내지만, 실행되는 로직은 조금 다름.\n",
        "# 전자는 arr2d[0]를 먼저 추출한 후, [2]를 쿼리하지만,\n",
        "# 후자는 arr2d 전체에서 0번째 행과 2번째 열을 동시에 쿼리함.\n",
        "\n",
        "print(arr2d[0][2])\n",
        "print(arr2d[0, 2])"
      ]
    },
    {
      "cell_type": "code",
      "execution_count": 60,
      "metadata": {
        "colab": {
          "base_uri": "https://localhost:8080/"
        },
        "id": "lLxpWnmu4Blh",
        "outputId": "90246158-0c7b-45ed-c4ac-c3c79c381175"
      },
      "outputs": [
        {
          "name": "stdout",
          "output_type": "stream",
          "text": [
            "[[1 2 3]\n",
            " [4 5 6]\n",
            " [7 8 9]]\n",
            "--------------------------------------------------\n",
            "[[1 2 3]\n",
            " [4 5 6]]\n"
          ]
        }
      ],
      "source": [
        "# 배열 슬라이싱1\n",
        "\n",
        "print(arr2d)\n",
        "line()\n",
        "print(arr2d[:2])"
      ]
    },
    {
      "cell_type": "code",
      "execution_count": 61,
      "metadata": {
        "colab": {
          "base_uri": "https://localhost:8080/"
        },
        "id": "Pg9suczR4Bli",
        "outputId": "ee63cf70-6337-462e-cca7-b408abe60d5c"
      },
      "outputs": [
        {
          "data": {
            "text/plain": [
              "array([[2, 3],\n",
              "       [5, 6]])"
            ]
          },
          "execution_count": 61,
          "metadata": {},
          "output_type": "execute_result"
        }
      ],
      "source": [
        "# 배열 슬라이싱2\n",
        "\n",
        "arr2d[:2, 1:]"
      ]
    },
    {
      "cell_type": "code",
      "execution_count": 64,
      "metadata": {
        "colab": {
          "base_uri": "https://localhost:8080/"
        },
        "id": "TX-telw-IrHs",
        "outputId": "9aebad2f-8cba-4048-cfd6-d01b65b87fa4"
      },
      "outputs": [
        {
          "data": {
            "text/plain": [
              "array([[4, 5, 6]])"
            ]
          },
          "execution_count": 64,
          "metadata": {},
          "output_type": "execute_result"
        }
      ],
      "source": [
        "# 배열 슬라이싱3 - 왜 결과가 다를까요?\n",
        "\n",
        "arr2d[:2][1:]"
      ]
    },
    {
      "cell_type": "code",
      "execution_count": 69,
      "metadata": {
        "colab": {
          "base_uri": "https://localhost:8080/"
        },
        "id": "b4qz6z-eI3bd",
        "outputId": "aae64b9d-8941-420c-a337-b4a5a49abbff"
      },
      "outputs": [
        {
          "name": "stdout",
          "output_type": "stream",
          "text": [
            "[[1 2 3]\n",
            " [4 5 6]]\n",
            "--------------------------------------------------\n"
          ]
        },
        {
          "data": {
            "text/plain": [
              "array([[4, 5, 6]])"
            ]
          },
          "execution_count": 69,
          "metadata": {},
          "output_type": "execute_result"
        }
      ],
      "source": [
        "# arr2d[:2]를 먼저 뽑은 다음 [1:] 처리를  진행함.\n",
        "\n",
        "print(arr2d[:2])\n",
        "line()\n",
        "arr2d[:2][1:]"
      ]
    },
    {
      "cell_type": "markdown",
      "metadata": {
        "id": "dIkjqQ1d4Bli"
      },
      "source": [
        "#### 1.2.6.1. 색인과 슬라이스 기초 연습문제\n",
        "\n",
        "- 문제1: 10개의 요소를 갖는 임의의 1차원 넘파이 배열을 만들고, 슬라이싱을 사용하여 두 번째 요소부터 끝까지의 요소를 출력하세요.\n",
        "- 문제2: 30개의 요소를 갖는 임의의 2차원 넘파이 배열을 만들고, 인덱싱을 사용하여 두 번째 행의 세 번째 요소를 출력하세요.\n",
        "- 문제3: 20부터 30까지의 수를 갖는 1차원 넘파이 배열을 만들고, 인덱싱을 사용하여 마지막 요소를 출력하세요."
      ]
    },
    {
      "cell_type": "code",
      "execution_count": null,
      "metadata": {},
      "outputs": [],
      "source": []
    },
    {
      "cell_type": "markdown",
      "metadata": {
        "id": "LsmkMUbb4Bli"
      },
      "source": [
        "### 1.2.7. 불리언 값으로 선택하기"
      ]
    },
    {
      "cell_type": "code",
      "execution_count": 71,
      "metadata": {
        "colab": {
          "base_uri": "https://localhost:8080/"
        },
        "id": "N9jQd7tk4Blj",
        "outputId": "2bc00072-8fb1-4982-d795-42124cc4d2ab"
      },
      "outputs": [
        {
          "name": "stdout",
          "output_type": "stream",
          "text": [
            "['Bob' 'Joe' 'Will' 'Bob' 'Will' 'Joe' 'Joe']\n",
            "[[  4   7]\n",
            " [  0   2]\n",
            " [ -5   6]\n",
            " [  0   0]\n",
            " [  1   2]\n",
            " [-12  -4]\n",
            " [  3   4]]\n"
          ]
        }
      ],
      "source": [
        "names = np.array([\"Bob\", \"Joe\", \"Will\", \"Bob\", \"Will\", \"Joe\", \"Joe\"])\n",
        "data = np.array([[4, 7], [0, 2], [-5, 6], [0, 0], [1, 2],\n",
        "                 [-12, -4], [3, 4]])\n",
        "print(names)\n",
        "print(data)"
      ]
    },
    {
      "cell_type": "code",
      "execution_count": 72,
      "metadata": {
        "colab": {
          "base_uri": "https://localhost:8080/"
        },
        "id": "gSGA1BMt4Blj",
        "outputId": "b0457eec-e55b-4ef3-831c-6c44dd0f33af"
      },
      "outputs": [
        {
          "data": {
            "text/plain": [
              "array([ True, False, False,  True, False, False, False])"
            ]
          },
          "execution_count": 72,
          "metadata": {},
          "output_type": "execute_result"
        }
      ],
      "source": [
        "# 비교 연산자를 통해 불리언 배열을 생성\n",
        "# 여기에는 배열에 대한 문자열(\"Bob\")의 브로드캐스팅이 적용됨.\n",
        "# 두 배열을 비교할 때는 크기가 서로 동일해야 함.\n",
        "\n",
        "names == \"Bob\""
      ]
    },
    {
      "cell_type": "code",
      "execution_count": 73,
      "metadata": {
        "colab": {
          "base_uri": "https://localhost:8080/"
        },
        "id": "UueEj6Ro4Blj",
        "outputId": "c56efb58-5764-4b6a-c782-f9d8494068d3"
      },
      "outputs": [
        {
          "data": {
            "text/plain": [
              "array([[4, 7],\n",
              "       [0, 0]])"
            ]
          },
          "execution_count": 73,
          "metadata": {},
          "output_type": "execute_result"
        }
      ],
      "source": [
        "# 배열 크기와 동일한 불리언 배열을 인덱스로 넣으면, True에 해당하는 배열만 슬라이싱 함.\n",
        "# 더 정확하게는 불리언 배열은 반드시 색인하려는 축의 길이와 길이가 동일해야 함.\n",
        "# 여기서는 data의 첫번째 축의 길이가 불리언 배열의 길이와 같음.\n",
        "\n",
        "data[names == \"Bob\"] # 7 x 2,  return_shape = 7"
      ]
    },
    {
      "cell_type": "code",
      "execution_count": 75,
      "metadata": {
        "colab": {
          "base_uri": "https://localhost:8080/"
        },
        "id": "5APm_wsS4Blk",
        "outputId": "87d5c7d9-ca43-44c6-f8bd-2c7f3f1b3ad2"
      },
      "outputs": [
        {
          "data": {
            "text/plain": [
              "array([[7],\n",
              "       [0]])"
            ]
          },
          "execution_count": 75,
          "metadata": {},
          "output_type": "execute_result"
        }
      ],
      "source": [
        "# 색인과 열을 함께 선택\n",
        "# 열을 슬라이싱 함.\n",
        "# data의 구조를 그대로 가지고 return 됨.\n",
        "\n",
        "data[names == \"Bob\", 1:]\n"
      ]
    },
    {
      "cell_type": "code",
      "execution_count": 76,
      "metadata": {
        "colab": {
          "base_uri": "https://localhost:8080/"
        },
        "id": "ahJMDup54Bll",
        "outputId": "fceb8ff8-d16b-448f-b32c-c9b77881ab73"
      },
      "outputs": [
        {
          "data": {
            "text/plain": [
              "array([7, 0])"
            ]
          },
          "execution_count": 76,
          "metadata": {},
          "output_type": "execute_result"
        }
      ],
      "source": [
        "# 색인과 열을 함께 선택\n",
        "# 열을 인덱싱 함.\n",
        "# 해당 인덱스의 데이터만 가지고 return 되므로 원래 data보다 한 차원 낮은 shape을 갖게 됨.\n",
        "\n",
        "data[names == \"Bob\", 1]"
      ]
    },
    {
      "cell_type": "code",
      "execution_count": 77,
      "metadata": {
        "colab": {
          "base_uri": "https://localhost:8080/"
        },
        "id": "PYu1knTK4Blm",
        "outputId": "b8c1a8c2-7598-4588-d0da-4ee16282800f"
      },
      "outputs": [
        {
          "name": "stdout",
          "output_type": "stream",
          "text": [
            "[False  True  True False  True  True  True]\n",
            "[False  True  True False  True  True  True]\n",
            "[ True False False  True False False False]\n"
          ]
        }
      ],
      "source": [
        "# 조건부 부인\n",
        "# 아래 두 명령어는 완전히 동일함.\n",
        "\n",
        "print(names != \"Bob\") # == .vs. !=\n",
        "print(~(names == \"Bob\"))\n",
        "print((names == \"Bob\"))"
      ]
    },
    {
      "cell_type": "code",
      "execution_count": 78,
      "metadata": {
        "colab": {
          "base_uri": "https://localhost:8080/"
        },
        "id": "8LeoTd7O4Bln",
        "outputId": "1e1acfc3-6098-4c91-dbea-b1386cfa605a"
      },
      "outputs": [
        {
          "data": {
            "text/plain": [
              "array([[  0,   2],\n",
              "       [ -5,   6],\n",
              "       [  1,   2],\n",
              "       [-12,  -4],\n",
              "       [  3,   4]])"
            ]
          },
          "execution_count": 78,
          "metadata": {},
          "output_type": "execute_result"
        }
      ],
      "source": [
        "data[~(names == \"Bob\")]"
      ]
    },
    {
      "cell_type": "code",
      "execution_count": 79,
      "metadata": {
        "colab": {
          "base_uri": "https://localhost:8080/"
        },
        "id": "y2CiGUCI4Blo",
        "outputId": "cfc5ec3d-62cf-4045-8314-a520d46a5c7f"
      },
      "outputs": [
        {
          "data": {
            "text/plain": [
              "array([[  0,   2],\n",
              "       [ -5,   6],\n",
              "       [  1,   2],\n",
              "       [-12,  -4],\n",
              "       [  3,   4]])"
            ]
          },
          "execution_count": 79,
          "metadata": {},
          "output_type": "execute_result"
        }
      ],
      "source": [
        "# 불리언 배열을 변수에 할당\n",
        "\n",
        "cond = names == \"Bob\"\n",
        "data[~cond]"
      ]
    },
    {
      "cell_type": "code",
      "execution_count": 83,
      "metadata": {
        "colab": {
          "base_uri": "https://localhost:8080/"
        },
        "id": "2DyFvb2DWmna",
        "outputId": "ec01767d-fbaf-4d4b-e44f-ec7c3f3b3695"
      },
      "outputs": [
        {
          "name": "stdout",
          "output_type": "stream",
          "text": [
            "[ True  True  True False]\n"
          ]
        }
      ],
      "source": [
        "# | == or\n",
        "# True + False = True\n",
        "# False + True = True\n",
        "# True + True = True\n",
        "# False + False = False\n",
        "\n",
        "exam_arr1 = np.array([True, False, True, False])\n",
        "exam_arr2 = np.array([True, True, False, False])\n",
        "\n",
        "print(exam_arr1 | exam_arr2)\n",
        "\n"
      ]
    },
    {
      "cell_type": "code",
      "execution_count": 84,
      "metadata": {
        "colab": {
          "base_uri": "https://localhost:8080/"
        },
        "id": "1C1hvioKYF5O",
        "outputId": "8e84a950-abc8-4c13-809f-97fd3a4b9dad"
      },
      "outputs": [
        {
          "name": "stdout",
          "output_type": "stream",
          "text": [
            "[ True False  True False]\n",
            "--------------------------------------------------\n",
            "[ True  True False False]\n",
            "--------------------------------------------------\n",
            "[ True False False False]\n"
          ]
        }
      ],
      "source": [
        "# & == and\n",
        "# True + False = False\n",
        "# False + True = False\n",
        "# True + True = True\n",
        "# False + False = False\n",
        "\n",
        "print(exam_arr1)\n",
        "line()\n",
        "print(exam_arr2)\n",
        "line()\n",
        "print(exam_arr1 & exam_arr2)"
      ]
    },
    {
      "cell_type": "code",
      "execution_count": 85,
      "metadata": {
        "colab": {
          "base_uri": "https://localhost:8080/"
        },
        "id": "gMOFgSz84Blo",
        "outputId": "3a982c99-6d80-4da6-c710-8ccef09df135"
      },
      "outputs": [
        {
          "data": {
            "text/plain": [
              "array([[ 4,  7],\n",
              "       [-5,  6],\n",
              "       [ 0,  0],\n",
              "       [ 1,  2]])"
            ]
          },
          "execution_count": 85,
          "metadata": {},
          "output_type": "execute_result"
        }
      ],
      "source": [
        "# 논리 연산자를 이용하여 여러 조건을 사용\n",
        "# | == or\n",
        "\n",
        "mask = (names == \"Bob\") | (names == \"Will\")\n",
        "mask\n",
        "data[mask]"
      ]
    },
    {
      "cell_type": "code",
      "execution_count": 87,
      "metadata": {
        "colab": {
          "base_uri": "https://localhost:8080/"
        },
        "id": "ujSnha2dY4HK",
        "outputId": "32b28ba8-903a-4582-a065-23a0d6e11b7a"
      },
      "outputs": [
        {
          "name": "stdout",
          "output_type": "stream",
          "text": [
            "[False False False False False False False]\n",
            "--------------------------------------------------\n",
            "[]\n"
          ]
        }
      ],
      "source": [
        "# 논리 연산자를 이용하여 여러 조건을 사용\n",
        "# & == and\n",
        "\n",
        "mask = (names == \"Bob\") & (names == \"Will\")\n",
        "print(mask)\n",
        "line()\n",
        "print(data[mask])"
      ]
    },
    {
      "cell_type": "code",
      "execution_count": 89,
      "metadata": {
        "colab": {
          "base_uri": "https://localhost:8080/"
        },
        "id": "eOOz_YC54Blo",
        "outputId": "e48bcfcc-db33-449b-abf1-7e397e297a53"
      },
      "outputs": [
        {
          "name": "stdout",
          "output_type": "stream",
          "text": [
            "[[4 7]\n",
            " [0 2]\n",
            " [0 6]\n",
            " [0 0]\n",
            " [1 2]\n",
            " [0 0]\n",
            " [3 4]]\n",
            "--------------------------------------------------\n",
            "[[False False]\n",
            " [False False]\n",
            " [False False]\n",
            " [False False]\n",
            " [False False]\n",
            " [False False]\n",
            " [False False]]\n",
            "--------------------------------------------------\n"
          ]
        },
        {
          "data": {
            "text/plain": [
              "array([[4, 7],\n",
              "       [0, 2],\n",
              "       [0, 6],\n",
              "       [0, 0],\n",
              "       [1, 2],\n",
              "       [0, 0],\n",
              "       [3, 4]])"
            ]
          },
          "execution_count": 89,
          "metadata": {},
          "output_type": "execute_result"
        }
      ],
      "source": [
        "# 조건에 맞는 요소 값을 원하는 값으로 변경함.\n",
        "# 개별 요소 값을 다룰 때는 ndarray shape과 동일한 bool data를 입력해야 한다는 것.\n",
        "\n",
        "print(data)\n",
        "line()\n",
        "\n",
        "print(data < 0)\n",
        "line()\n",
        "\n",
        "data[data < 0] = 0\n",
        "data"
      ]
    },
    {
      "cell_type": "code",
      "execution_count": 92,
      "metadata": {
        "colab": {
          "base_uri": "https://localhost:8080/"
        },
        "id": "fO8KZZfw4Blo",
        "outputId": "65bd2256-a73c-4248-e23a-46c1e50a4789"
      },
      "outputs": [
        {
          "name": "stdout",
          "output_type": "stream",
          "text": [
            "[[7 7]\n",
            " [0 2]\n",
            " [7 7]\n",
            " [7 7]\n",
            " [7 7]\n",
            " [0 0]\n",
            " [3 4]]\n",
            "--------------------------------------------------\n",
            "['Bob' 'Joe' 'Will' 'Bob' 'Will' 'Joe' 'Joe']\n",
            "--------------------------------------------------\n"
          ]
        },
        {
          "data": {
            "text/plain": [
              "array([[7, 7],\n",
              "       [0, 2],\n",
              "       [7, 7],\n",
              "       [7, 7],\n",
              "       [7, 7],\n",
              "       [0, 0],\n",
              "       [3, 4]])"
            ]
          },
          "execution_count": 92,
          "metadata": {},
          "output_type": "execute_result"
        }
      ],
      "source": [
        "# 행 단위로 데이터를 조작하는 경우, 행의 요소 수 만큼의 bool data가 입력되어야 함.\n",
        "\n",
        "print(data)\n",
        "line()\n",
        "print(names)\n",
        "line()\n",
        "data[names != \"Joe\"] = 7\n",
        "data"
      ]
    },
    {
      "cell_type": "markdown",
      "metadata": {
        "id": "Hs6Z8J3R4Blp"
      },
      "source": [
        "#### 1.2.7.1. 불리언 색인 연습문제\n",
        "\n",
        "> numpy.random.rand(), numpy.random.randint() 를 활용하세요.\n",
        "\n",
        "- 문제1: 10개의 요소를 갖는 임의의 1차원 넘파이 배열을 만들고, 배열에서 값이 0.5보다 큰 모든 요소를 찾아 출력하세요.\n",
        "- 문제2: 40개의 요소를 갖는 임의의 2차원 넘파이 배열(shape=(10,4))을 만들고, 세 번째 열의 값이 0보다 큰 모든 행을 선택하여 출력하세요.\n",
        "- 문제3: 0~10 사이의 수가 임의로 배치된 총 요소의 수가 20인 1차원 넘파이 배열을 만들고,주어진 1차원 넘파이 배열에서 값이 3보다 크고 7보다 작은 모든 요소를 선택하여 출력하세요."
      ]
    },
    {
      "cell_type": "code",
      "execution_count": null,
      "metadata": {},
      "outputs": [],
      "source": []
    },
    {
      "cell_type": "markdown",
      "metadata": {
        "id": "a6zXIq8n4Blp"
      },
      "source": [
        "### 1.2.8. 팬시 색인(fancy indexing)\n",
        "- 정수 배열을 사용한 색인을 설명하기 위해 넘파이에서 차용한 단어임."
      ]
    },
    {
      "cell_type": "code",
      "execution_count": 94,
      "metadata": {
        "colab": {
          "base_uri": "https://localhost:8080/"
        },
        "id": "yK2YaTBu4Blp",
        "outputId": "e633668f-06f6-490b-f80f-90c82767a33d"
      },
      "outputs": [
        {
          "data": {
            "text/plain": [
              "array([[ 0.,  0.,  0.,  0.],\n",
              "       [ 2.,  2.,  2.,  2.],\n",
              "       [ 4.,  4.,  4.,  4.],\n",
              "       [ 6.,  6.,  6.,  6.],\n",
              "       [ 8.,  8.,  8.,  8.],\n",
              "       [10., 10., 10., 10.],\n",
              "       [12., 12., 12., 12.],\n",
              "       [14., 14., 14., 14.]])"
            ]
          },
          "execution_count": 94,
          "metadata": {},
          "output_type": "execute_result"
        }
      ],
      "source": [
        "# 특정한 행을 지정하고 값을 입력\n",
        "\n",
        "import numpy as np\n",
        "\n",
        "arr = np.zeros((8, 4))\n",
        "for i in range(8):\n",
        "    arr[i] = i*2 # 브로드 캐스팅 scalar -> 벡터\n",
        "arr\n"
      ]
    },
    {
      "cell_type": "code",
      "execution_count": 95,
      "metadata": {
        "colab": {
          "base_uri": "https://localhost:8080/"
        },
        "id": "iFY9HpGZ4Blp",
        "outputId": "2457c647-5e3b-4b45-eb0c-4a4b9ecb63d9"
      },
      "outputs": [
        {
          "name": "stdout",
          "output_type": "stream",
          "text": [
            "[[ 0.  0.  0.  0.]\n",
            " [ 2.  2.  2.  2.]\n",
            " [ 4.  4.  4.  4.]\n",
            " [ 6.  6.  6.  6.]\n",
            " [ 8.  8.  8.  8.]\n",
            " [10. 10. 10. 10.]\n",
            " [12. 12. 12. 12.]\n",
            " [14. 14. 14. 14.]]\n",
            "--------------------------------------------------\n"
          ]
        },
        {
          "data": {
            "text/plain": [
              "array([[ 8.,  8.,  8.,  8.],\n",
              "       [ 6.,  6.,  6.,  6.],\n",
              "       [ 0.,  0.,  0.,  0.],\n",
              "       [12., 12., 12., 12.]])"
            ]
          },
          "execution_count": 95,
          "metadata": {},
          "output_type": "execute_result"
        }
      ],
      "source": [
        "# 특정 행을 지정하여 하위집합을 선택하기 위해 순서가 명시된 정수가 담긴 ndarray나 리스트를 입력함.\n",
        "print(arr)\n",
        "line()\n",
        "arr[[4, 3, 0, 6]]"
      ]
    },
    {
      "cell_type": "code",
      "execution_count": 96,
      "metadata": {
        "colab": {
          "base_uri": "https://localhost:8080/"
        },
        "id": "vYiuwBPv4Blp",
        "outputId": "180a170c-6c90-461a-ac30-25da47869c82"
      },
      "outputs": [
        {
          "data": {
            "text/plain": [
              "array([[10., 10., 10., 10.],\n",
              "       [ 6.,  6.,  6.,  6.],\n",
              "       [ 2.,  2.,  2.,  2.]])"
            ]
          },
          "execution_count": 96,
          "metadata": {},
          "output_type": "execute_result"
        }
      ],
      "source": [
        "# 음수를 사용하여 뒤에서부터 인덱싱\n",
        "\n",
        "arr[[-3, -5, -7]]"
      ]
    },
    {
      "cell_type": "code",
      "execution_count": 100,
      "metadata": {
        "colab": {
          "base_uri": "https://localhost:8080/"
        },
        "id": "lt6CZVFi4Blp",
        "outputId": "beca1193-2cf2-4c1f-cd3d-49a79a2db266"
      },
      "outputs": [
        {
          "name": "stdout",
          "output_type": "stream",
          "text": [
            "[ 0  1  2  3  4  5  6  7  8  9 10 11 12 13 14 15 16 17 18 19 20 21 22 23\n",
            " 24 25 26 27 28 29 30 31]\n",
            "--------------------------------------------------\n"
          ]
        },
        {
          "data": {
            "text/plain": [
              "array([[ 0,  1,  2,  3],\n",
              "       [ 4,  5,  6,  7],\n",
              "       [ 8,  9, 10, 11],\n",
              "       [12, 13, 14, 15],\n",
              "       [16, 17, 18, 19],\n",
              "       [20, 21, 22, 23],\n",
              "       [24, 25, 26, 27],\n",
              "       [28, 29, 30, 31]])"
            ]
          },
          "execution_count": 100,
          "metadata": {},
          "output_type": "execute_result"
        }
      ],
      "source": [
        "# reshape() 함수를 이용하여 shape을 변형함.\n",
        "# 주의점은 배열의 요소 수가 변형 전과 후가 같아야 함.\n",
        "\n",
        "arr = np.arange(32)\n",
        "print(arr)\n",
        "line()\n",
        "\n",
        "arr = arr.reshape((8, 4))\n",
        "arr\n"
      ]
    },
    {
      "cell_type": "code",
      "execution_count": 101,
      "metadata": {
        "colab": {
          "base_uri": "https://localhost:8080/",
          "height": 181
        },
        "id": "RGu2wsH-GD8U",
        "outputId": "bf4540a4-36d5-4383-b6bb-0a9b6740ec8d"
      },
      "outputs": [
        {
          "ename": "ValueError",
          "evalue": "cannot reshape array of size 32 into shape (8,5)",
          "output_type": "error",
          "traceback": [
            "\u001b[0;31m---------------------------------------------------------------------------\u001b[0m",
            "\u001b[0;31mValueError\u001b[0m                                Traceback (most recent call last)",
            "\u001b[0;32m<ipython-input-101-7bb28a26d961>\u001b[0m in \u001b[0;36m<cell line: 1>\u001b[0;34m()\u001b[0m\n\u001b[0;32m----> 1\u001b[0;31m \u001b[0marr3\u001b[0m \u001b[0;34m=\u001b[0m \u001b[0marr\u001b[0m\u001b[0;34m.\u001b[0m\u001b[0mreshape\u001b[0m\u001b[0;34m(\u001b[0m\u001b[0;34m(\u001b[0m\u001b[0;36m8\u001b[0m\u001b[0;34m,\u001b[0m\u001b[0;36m5\u001b[0m\u001b[0;34m)\u001b[0m\u001b[0;34m)\u001b[0m\u001b[0;34m\u001b[0m\u001b[0;34m\u001b[0m\u001b[0m\n\u001b[0m",
            "\u001b[0;31mValueError\u001b[0m: cannot reshape array of size 32 into shape (8,5)"
          ]
        }
      ],
      "source": [
        "arr3 = arr.reshape((8,5))"
      ]
    },
    {
      "cell_type": "code",
      "execution_count": 104,
      "metadata": {
        "colab": {
          "base_uri": "https://localhost:8080/"
        },
        "id": "mxGvpzXB4Blq",
        "outputId": "648d4cd9-ba44-492a-efa7-6f6d0ed041a0"
      },
      "outputs": [
        {
          "name": "stdout",
          "output_type": "stream",
          "text": [
            "[[ 0  1  2  3]\n",
            " [ 4  5  6  7]\n",
            " [ 8  9 10 11]\n",
            " [12 13 14 15]\n",
            " [16 17 18 19]\n",
            " [20 21 22 23]\n",
            " [24 25 26 27]\n",
            " [28 29 30 31]]\n",
            "--------------------------------------------------\n"
          ]
        },
        {
          "data": {
            "text/plain": [
              "array([ 4, 23, 29, 10])"
            ]
          },
          "execution_count": 104,
          "metadata": {},
          "output_type": "execute_result"
        }
      ],
      "source": [
        "# 다차원 색인 배열은 조금 다르게 작용함.\n",
        "# 마치 zip() 함수처럼 행동함.\n",
        "# 각 위치의 인덱스를 가지고 값을 찾는 것처럼 행동함.\n",
        "# 전체 arr를 조망하면서 해당 인덱스를 찾아 값을 추출하는 로직\n",
        "\n",
        "print(arr)\n",
        "line()\n",
        "arr[[1, 5, 7, 2], [0, 3, 1, 2]]\n"
      ]
    },
    {
      "cell_type": "code",
      "execution_count": 105,
      "metadata": {
        "colab": {
          "base_uri": "https://localhost:8080/"
        },
        "id": "d2ricOug4Blq",
        "outputId": "3e4fa6d8-15b2-49e1-d9d2-e1ef4ec014ac"
      },
      "outputs": [
        {
          "name": "stdout",
          "output_type": "stream",
          "text": [
            "[[ 4  5  6  7]\n",
            " [20 21 22 23]\n",
            " [28 29 30 31]\n",
            " [ 8  9 10 11]]\n",
            "--------------------------------------------------\n",
            "[[ 4  7  5  6]\n",
            " [20 23 21 22]\n",
            " [28 31 29 30]\n",
            " [ 8 11  9 10]]\n"
          ]
        }
      ],
      "source": [
        "# 위의 예시와 비교해 볼 것.\n",
        "# 조금 어렵지만 이해해 보도록 노력해 보세요 ^^\n",
        "# 마찬가지로 arr[[1, 5, 7, 2]]을 먼저 뽑고, 전체 행을 뽑되, 열의 순서를 달리하는 로직\n",
        "\n",
        "print(arr[[1, 5, 7, 2]])\n",
        "line()\n",
        "print(arr[[1, 5, 7, 2]][:, [0, 3, 1, 2]])\n"
      ]
    },
    {
      "cell_type": "code",
      "execution_count": 106,
      "metadata": {
        "colab": {
          "base_uri": "https://localhost:8080/"
        },
        "id": "8nL8QnU54Blq",
        "outputId": "b1f6012c-757c-4871-95a8-4755e30a003b"
      },
      "outputs": [
        {
          "name": "stdout",
          "output_type": "stream",
          "text": [
            "[[ 0  1  2  3]\n",
            " [ 4  5  6  7]\n",
            " [ 8  9 10 11]\n",
            " [12 13 14 15]\n",
            " [16 17 18 19]\n",
            " [20 21 22 23]\n",
            " [24 25 26 27]\n",
            " [28 29 30 31]]\n",
            "--------------------------------------------------\n",
            "[ 4 23 29 10]\n",
            "--------------------------------------------------\n",
            "[[ 0  1  2  3]\n",
            " [ 0  5  6  7]\n",
            " [ 8  9  0 11]\n",
            " [12 13 14 15]\n",
            " [16 17 18 19]\n",
            " [20 21 22  0]\n",
            " [24 25 26 27]\n",
            " [28  0 30 31]]\n"
          ]
        }
      ],
      "source": [
        "# fancy 인덱싱을 이용한 배열 요소별 대입\n",
        "\n",
        "print(arr)\n",
        "line()\n",
        "print(arr[[1, 5, 7, 2], [0, 3, 1, 2]])\n",
        "line()\n",
        "\n",
        "arr[[1, 5, 7, 2], [0, 3, 1, 2]] = 0\n",
        "print(arr)"
      ]
    },
    {
      "cell_type": "markdown",
      "metadata": {
        "id": "kFGF0fxY4Blq"
      },
      "source": [
        "#### 1.2.8.1. 팬시 색인 연습문제\n",
        "\n",
        "- 문제1: 다음 리스트를 ndarray 배열로 바꾸고, 인덱스 1, 3, 4에 해당하는 요소들을 선택하여 출력하세요.\n",
        "    - 리스트: [10, 20, 30, 40, 50]\n",
        "- 문제2: 다음 이중 리스트를 ndarray 배열로 바꾸고, 행 인덱스 [0, 2, 3], 열 인덱스 [1, 0, 2] 에 해당하는 요소를 찾아 출력하세요.\n",
        "    - 이중리스트: [[1, 2, 3], [4, 5, 6], [7, 8, 9], [10, 11, 12]]"
      ]
    },
    {
      "cell_type": "code",
      "execution_count": null,
      "metadata": {},
      "outputs": [],
      "source": []
    },
    {
      "cell_type": "markdown",
      "metadata": {
        "id": "s8DKo2jo4Blr"
      },
      "source": [
        "### 1.2.9. 배열 전치와 축 바꾸기\n",
        "- 전치: 행렬에서 행과 열의 위치를 바꾸는 변형 기법\n",
        "- 전치방법\n",
        "    - 방법1: 메서드 \bnumpy.transpose()\n",
        "    - 방법2: 속성 numpy.T\n",
        "    - 방법3: 메서드 numpy.swapaxes()"
      ]
    },
    {
      "cell_type": "code",
      "execution_count": 107,
      "metadata": {
        "colab": {
          "base_uri": "https://localhost:8080/"
        },
        "id": "65chX8-n4Blr",
        "outputId": "adc16b88-620b-40b0-aa09-d3dc9d78f8b6"
      },
      "outputs": [
        {
          "name": "stdout",
          "output_type": "stream",
          "text": [
            "[[ 0  1  2  3  4]\n",
            " [ 5  6  7  8  9]\n",
            " [10 11 12 13 14]]\n",
            "--------------------------------------------------\n",
            "[[ 0  5 10]\n",
            " [ 1  6 11]\n",
            " [ 2  7 12]\n",
            " [ 3  8 13]\n",
            " [ 4  9 14]]\n"
          ]
        }
      ],
      "source": [
        "# 행렬의 전치. 열과 행을 맞바꿈.\n",
        "\n",
        "arr = np.arange(15).reshape((3, 5))\n",
        "print(arr)\n",
        "line()\n",
        "print(arr.T)"
      ]
    },
    {
      "cell_type": "code",
      "execution_count": 108,
      "metadata": {
        "colab": {
          "base_uri": "https://localhost:8080/"
        },
        "id": "wMcUdUkJU0Qe",
        "outputId": "31245dae-970b-4abd-cd0c-fb051ae344ab"
      },
      "outputs": [
        {
          "data": {
            "text/plain": [
              "20"
            ]
          },
          "execution_count": 108,
          "metadata": {},
          "output_type": "execute_result"
        }
      ],
      "source": [
        "# 벡터 내적\n",
        "\n",
        "a = np.array([1,2,3,4])\n",
        "b = np.array([0,1,2,3])\n",
        "\n",
        "np.dot(a, b)"
      ]
    },
    {
      "cell_type": "code",
      "execution_count": null,
      "metadata": {
        "colab": {
          "base_uri": "https://localhost:8080/"
        },
        "id": "OLSVUU2PT2uQ",
        "outputId": "464b1d00-152c-44ae-9530-c8dfbaa72a3e"
      },
      "outputs": [
        {
          "data": {
            "text/plain": [
              "array([[ 4,  7],\n",
              "       [ 8, 15]])"
            ]
          },
          "execution_count": 41,
          "metadata": {},
          "output_type": "execute_result"
        }
      ],
      "source": [
        "# 행렬 내적\n",
        "\n",
        "a = np.array([[1,2],\n",
        "              [3,4]])\n",
        "\n",
        "b = np.array([[0,1],\n",
        "              [2,3]])\n",
        "\n",
        "np.dot(a, b)"
      ]
    },
    {
      "cell_type": "code",
      "execution_count": 110,
      "metadata": {
        "colab": {
          "base_uri": "https://localhost:8080/"
        },
        "id": "agAJUQn24Bls",
        "outputId": "a4fe60f3-6b2c-4572-a8ed-cbd55a2184af"
      },
      "outputs": [
        {
          "name": "stdout",
          "output_type": "stream",
          "text": [
            "[[ 0  1  0]\n",
            " [ 1  2 -2]\n",
            " [ 6  3  2]\n",
            " [-1  0 -1]\n",
            " [ 1  0  1]]\n",
            "--------------------------------------------------\n",
            "[[39 20 12]\n",
            " [20 14  2]\n",
            " [12  2 10]]\n",
            "--------------------------------------------------\n",
            "[[ 1  2  3  0  0]\n",
            " [ 2  9  8  1 -1]\n",
            " [ 3  8 49 -8  8]\n",
            " [ 0  1 -8  2 -2]\n",
            " [ 0 -1  8 -2  2]]\n"
          ]
        }
      ],
      "source": [
        "# 행렬 내적2\n",
        "# numpy.dot() 사용\n",
        "# 예시에서는 3 x 5 @ 5 x 3 --> 결과: 3 x 3\n",
        "# 내적 순서가 바뀌면 결과가 바뀜.\n",
        "\n",
        "arr = np.array([[0, 1, 0], [1, 2, -2], [6, 3, 2], [-1, 0, -1], [1, 0, 1]])\n",
        "print(arr)\n",
        "line()\n",
        "\n",
        "print(np.dot(arr.T, arr))\n",
        "line()\n",
        "print(np.dot(arr, arr.T))"
      ]
    },
    {
      "cell_type": "code",
      "execution_count": null,
      "metadata": {
        "id": "DcAa6lrx4Bls",
        "outputId": "c2840861-31c1-4cf8-a94f-42b4ffe8c120"
      },
      "outputs": [
        {
          "name": "stdout",
          "output_type": "stream",
          "text": [
            "[[39 20 12]\n",
            " [20 14  2]\n",
            " [12  2 10]]\n"
          ]
        }
      ],
      "source": [
        "# 행렬 내적2\n",
        "# @ 연산자 사용\n",
        "\n",
        "print(arr.T @ arr)"
      ]
    },
    {
      "cell_type": "code",
      "execution_count": 117,
      "metadata": {
        "colab": {
          "base_uri": "https://localhost:8080/"
        },
        "id": "uvUZRd8QJFca",
        "outputId": "fd00ada0-fc8f-4ebb-a559-8b0b1023f85c"
      },
      "outputs": [
        {
          "name": "stdout",
          "output_type": "stream",
          "text": [
            "[[ 56  60  64  68]\n",
            " [ 80  86  92  98]\n",
            " [104 112 120 128]\n",
            " [128 138 148 158]]\n",
            "--------------------------------------------------\n",
            "[[ 56  60  64  68]\n",
            " [ 80  86  92  98]\n",
            " [104 112 120 128]\n",
            " [128 138 148 158]]\n"
          ]
        }
      ],
      "source": [
        "# 내적과 전치의 특징\n",
        "\n",
        "dummy_arr1 = np.arange(8).reshape(2,4)\n",
        "dummy_arr2 = np.arange(10, 18).reshape(2,4)\n",
        "\n",
        "print(dummy_arr1.T @ dummy_arr2)\n",
        "line()\n",
        "print((dummy_arr2.T @ dummy_arr1).T)"
      ]
    },
    {
      "cell_type": "code",
      "execution_count": 118,
      "metadata": {
        "colab": {
          "base_uri": "https://localhost:8080/"
        },
        "id": "-TMvoQP74Blu",
        "outputId": "b1c4189b-d0fc-4c4f-e182-daa96d9ac8fe"
      },
      "outputs": [
        {
          "name": "stdout",
          "output_type": "stream",
          "text": [
            "[[ 0  1  6 -1  1]\n",
            " [ 1  2  3  0  0]\n",
            " [ 0 -2  2 -1  1]]\n",
            "--------------------------------------------------\n",
            "[[ 0  1  6 -1  1]\n",
            " [ 1  2  3  0  0]\n",
            " [ 0 -2  2 -1  1]]\n"
          ]
        }
      ],
      "source": [
        "# numpy.swapaxes()를 이용한 전치\n",
        "\n",
        "print(arr.T)\n",
        "line()\n",
        "print(arr.swapaxes(0, 1))"
      ]
    },
    {
      "cell_type": "markdown",
      "metadata": {
        "id": "FoI_3g4j4Blv"
      },
      "source": [
        "### 1.3. 난수 생성\n",
        "- numpy.random 모듈은 파이썬 내장 random 모듈을 보강해 다양한 종류의 확률분포로부터 표본값을 생성할 수 있음."
      ]
    },
    {
      "cell_type": "code",
      "execution_count": 119,
      "metadata": {
        "colab": {
          "base_uri": "https://localhost:8080/"
        },
        "id": "9CPiiJd04Blv",
        "outputId": "b1d8eb6a-4a8c-45d7-e46b-714ee8984960"
      },
      "outputs": [
        {
          "data": {
            "text/plain": [
              "array([[-0.2047,  0.4789, -0.5194, -0.5557],\n",
              "       [ 1.9658,  1.3934,  0.0929,  0.2817],\n",
              "       [ 0.769 ,  1.2464,  1.0072, -1.2962],\n",
              "       [ 0.275 ,  0.2289,  1.3529,  0.8864]])"
            ]
          },
          "execution_count": 119,
          "metadata": {},
          "output_type": "execute_result"
        }
      ],
      "source": [
        "# 표준정규분포로부터 4x4 크기의 표본을 생성할 수 있음.\n",
        "\n",
        "import numpy as np\n",
        "\n",
        "samples = np.random.standard_normal(size=(4, 4))\n",
        "# samples = np.random.standard_normal((4, 4))\n",
        "\n",
        "samples"
      ]
    },
    {
      "cell_type": "code",
      "execution_count": 122,
      "metadata": {
        "colab": {
          "base_uri": "https://localhost:8080/"
        },
        "id": "IkXfkrQm4Blw",
        "outputId": "fae6f18f-330f-462e-93ba-0cf67d13d798"
      },
      "outputs": [
        {
          "data": {
            "text/plain": [
              "0.87677979664234"
            ]
          },
          "execution_count": 122,
          "metadata": {},
          "output_type": "execute_result"
        }
      ],
      "source": [
        "# 반면, 내장 모듈 random.normalvariate은 한번에 하나의 값만 생성함.\n",
        "# normalvariate(mu, sigma)\n",
        "\n",
        "from random import normalvariate\n",
        "\n",
        "normalvariate(0, 1)"
      ]
    },
    {
      "cell_type": "code",
      "execution_count": 123,
      "metadata": {
        "colab": {
          "base_uri": "https://localhost:8080/"
        },
        "id": "W1rXsiQQ4Blw",
        "outputId": "1289d7c0-b292-4dd7-e2c4-a9ac67c89d9e"
      },
      "outputs": [
        {
          "name": "stdout",
          "output_type": "stream",
          "text": [
            "999 ms ± 280 ms per loop (mean ± std. dev. of 7 runs, 1 loop each)\n",
            "29.3 ms ± 472 µs per loop (mean ± std. dev. of 7 runs, 10 loops each)\n"
          ]
        }
      ],
      "source": [
        "# 표준정규분포에서 1_000_000개 난수 생성\n",
        "\n",
        "from random import normalvariate\n",
        "\n",
        "N = 1_000_000\n",
        "%timeit samples = [normalvariate(0, 1) for _ in range(N)]\n",
        "%timeit np.random.standard_normal(N)"
      ]
    },
    {
      "cell_type": "code",
      "execution_count": 124,
      "metadata": {
        "colab": {
          "base_uri": "https://localhost:8080/"
        },
        "id": "YGWoidOh4Blx",
        "outputId": "c0ff455c-0ecb-4749-fde2-1372bd41f8dc"
      },
      "outputs": [
        {
          "data": {
            "text/plain": [
              "array([[-1.4238,  1.2637, -0.8707],\n",
              "       [-0.2592, -0.0753, -0.7409]])"
            ]
          },
          "execution_count": 124,
          "metadata": {},
          "output_type": "execute_result"
        }
      ],
      "source": [
        "# 위 예시는 난수 생성기의 seed값에 따라 알고리즘이 정해진 난수를 생성하는 유사난수(pseudorandom)이라고 함.\n",
        "# seed 설정을 통해 numpy.random 모듈의 기본 난수 생성기를 명시적으로 설정할 수 있음.\n",
        "\n",
        "rng = np.random.default_rng(seed=12345)\n",
        "data = rng.standard_normal((2, 3))\n",
        "data"
      ]
    },
    {
      "cell_type": "code",
      "execution_count": 125,
      "metadata": {
        "colab": {
          "base_uri": "https://localhost:8080/"
        },
        "id": "DPYLziWl4Blx",
        "outputId": "77666b6a-24bb-4b12-edd2-a3321ed4d9e1"
      },
      "outputs": [
        {
          "data": {
            "text/plain": [
              "numpy.random._generator.Generator"
            ]
          },
          "execution_count": 125,
          "metadata": {},
          "output_type": "execute_result"
        }
      ],
      "source": [
        "type(rng)"
      ]
    },
    {
      "cell_type": "code",
      "execution_count": 126,
      "metadata": {
        "colab": {
          "base_uri": "https://localhost:8080/"
        },
        "id": "AjYYbWEKYMCl",
        "outputId": "38ce3c29-fda5-4303-efff-09d9d780139e"
      },
      "outputs": [
        {
          "data": {
            "text/plain": [
              "array([[11, 10, 11],\n",
              "       [10, 10, 11],\n",
              "       [11, 11, 10]])"
            ]
          },
          "execution_count": 126,
          "metadata": {},
          "output_type": "execute_result"
        }
      ],
      "source": [
        "# np.random.randint\n",
        "\n",
        "np.random.randint(10) # range\n",
        "np.random.randint(10, 12, size=(3,3))"
      ]
    },
    {
      "cell_type": "markdown",
      "metadata": {
        "id": "RYttPjky4Bly"
      },
      "source": [
        "- numpy.random 모듈의 함수들\n",
        "    - rand: 0과 1 사이의 균일한 분포에서 무작위로 표본 추출\n",
        "    - randn: 평균 0과 표준편차 1을 갖는 정규 분포에서 무작위로 표본 추출\n",
        "    - randint: 주어진 범위에서 무작위로 선택된 정수를 추출\n",
        "    - permutation: 주어진 크기의 임의 순열을 반환하거나 주어진 리스트 순서를 뒤섞는다.\n",
        "\n",
        "- rng와 같은 난수 생성기 객체에서 사용할 수 있는 메서드\n",
        "    - permutation: 주어진 크기의 임의 순열을 반환하거나 주어진 리스트 순서를 뒤섞는다.\n",
        "    - shuffle: 리스트나 배열의 순서를 뒤섞는다.\n",
        "    - integers: 주어진 상하한값 내에서 임의의 정숫값 몇 개를 뽑는다.\n",
        "    - standard_normal: 평균 0, 표준편차 1의 정규분포에서 표본을 추출한다.\n",
        "    - binomial: 이항분포에서 표본을 추출한다.\n",
        "    - normal: 정규분포(가우시안)에서 표본을 추출한다.\n",
        "    - beta: 베타 분포에서 표본을 추출한다.\n",
        "    - chisquare: 카이제곱 분포에서 표본을 추출한다.\n",
        "    - gamma: 감마 분포에서 표본을 추출한다.\n",
        "    - uniform: 균등[0, 1) 분포에서 표본을 추출한다."
      ]
    },
    {
      "cell_type": "markdown",
      "metadata": {
        "id": "K6rgk4q64Bly"
      },
      "source": [
        "### 1.3.1. numpy.random 활용 연습문제\n",
        "\n",
        "- 문제1: 1부터 100까지 범위에서 무작위로 선택된 정수로 이루어진 길이가 10인 배열을 생성하세요.\n",
        "\n",
        "- 문제2: 0에서 1 사이의 균일한 분포를 가지는 실수로 이루어진 3x3 크기의 배열을 생성하세요.\n",
        "\n",
        "- 문제3: 평균 0과 표준편차 1을 갖는 정규 분포로부터 5개의 샘플을 생성하세요.\n",
        "\n",
        "- 문제4: 주어진 1차원 넘파이 배열의 요소들을 무작위로 섞은 새로운 배열을 생성하세요.\n",
        "\n",
        "- 문제5: 1부터 10까지의 정수를 무작위로 섞은 배열을 생성하세요."
      ]
    },
    {
      "cell_type": "code",
      "execution_count": null,
      "metadata": {},
      "outputs": [],
      "source": []
    },
    {
      "cell_type": "markdown",
      "metadata": {
        "id": "qllvAe3W4Blz"
      },
      "source": [
        "### 1.4. 유니버설 함수: 배열의 각 원소를 빠르게 처리하는 함수\n",
        "- ufunc라고도 부르는 유니버설(universal) 함수는 ndarray 안의 데이터 원소별로 연산을 수행하는 함수임.\n",
        "- 하나 이상의 스칼라 값을 받아서 하나 이상의 스칼라 결과값을 반환하는 간단한 함수를 빠르게 수행하는 백터화된 wrapper 함수임."
      ]
    },
    {
      "cell_type": "code",
      "execution_count": 127,
      "metadata": {
        "colab": {
          "base_uri": "https://localhost:8080/"
        },
        "id": "FYETxW5w4Blz",
        "outputId": "e3fbddfb-af42-48d1-9522-f77d1ee43ca7"
      },
      "outputs": [
        {
          "name": "stdout",
          "output_type": "stream",
          "text": [
            "[0 1 2 3 4 5 6 7 8 9]\n",
            "--------------------------------------------------\n",
            "[0.     1.     1.4142 1.7321 2.     2.2361 2.4495 2.6458 2.8284 3.    ]\n",
            "--------------------------------------------------\n",
            "[   1.        2.7183    7.3891   20.0855   54.5982  148.4132  403.4288\n",
            " 1096.6332 2980.958  8103.0839]\n"
          ]
        }
      ],
      "source": [
        "# 각 요소별로 함수가 적용됨.\n",
        "# 단항 유니버설 함수로서, 매개변수를 하나 취함.\n",
        "\n",
        "arr = np.arange(10)\n",
        "print(arr)\n",
        "line()\n",
        "\n",
        "print(np.sqrt(arr))\n",
        "line()\n",
        "\n",
        "print(np.exp(arr))"
      ]
    },
    {
      "cell_type": "code",
      "execution_count": 128,
      "metadata": {
        "colab": {
          "base_uri": "https://localhost:8080/"
        },
        "id": "UGjvjPQslsF1",
        "outputId": "c2064960-821f-4a82-9ce9-eaa15f75cd92"
      },
      "outputs": [
        {
          "name": "stdout",
          "output_type": "stream",
          "text": [
            "1.22 µs ± 801 ns per loop (mean ± std. dev. of 7 runs, 1000000 loops each)\n",
            "1.23 µs ± 335 ns per loop (mean ± std. dev. of 7 runs, 1000000 loops each)\n"
          ]
        }
      ],
      "source": [
        "# map 함수와의 비교\n",
        "\n",
        "import math\n",
        "\n",
        "%timeit list(map(math.sqrt, [0, 1, 2, 3, 4, 5, 6, 7, 8, 9]))\n",
        "%timeit np.sqrt(arr)"
      ]
    },
    {
      "cell_type": "code",
      "execution_count": 129,
      "metadata": {
        "colab": {
          "base_uri": "https://localhost:8080/"
        },
        "id": "JGBLajn64Blz",
        "outputId": "65e26424-52df-4665-a820-e727cab47e2e"
      },
      "outputs": [
        {
          "name": "stdout",
          "output_type": "stream",
          "text": [
            "[-1.4238  1.2637 -0.8707 -0.2592 -0.0753 -0.7409 -1.3678  0.6489]\n",
            "[ 0.3611 -1.9529  2.3474  0.9685 -0.7594  0.9022 -0.467  -0.0607]\n",
            "--------------------------------------------------\n",
            "[ 0.3611  1.2637  2.3474  0.9685 -0.0753  0.9022 -0.467   0.6489]\n",
            "[0.     1.2637 0.     0.     0.     0.     0.     0.6489]\n"
          ]
        }
      ],
      "source": [
        "# 두 배열의 같은 인덱스의 값을 비교하여 더 큰 값을 반환하는 함수 np.maximum()\n",
        "# 이항 유니버설 함수로서 2개 매개변수를 취해서 단일 배열을 반환함.\n",
        "\n",
        "rng = np.random.default_rng(seed=12345)\n",
        "\n",
        "x = rng.standard_normal(8)\n",
        "y = rng.standard_normal(8)\n",
        "\n",
        "print(x)\n",
        "print(y)\n",
        "line()\n",
        "print(np.maximum(x, y)) # 리스트 .vs. 리스트\n",
        "print(np.maximum(x, 0)) # 리스트 .vs. 스칼라"
      ]
    },
    {
      "cell_type": "code",
      "execution_count": 130,
      "metadata": {
        "colab": {
          "base_uri": "https://localhost:8080/"
        },
        "id": "BGna-l9-4Bl0",
        "outputId": "e5b2a519-0578-4597-ed73-b40149141ba2"
      },
      "outputs": [
        {
          "name": "stdout",
          "output_type": "stream",
          "text": [
            "[ 3.9442 -6.2833  2.8793  6.9949  6.6115 -1.4985  4.5146]\n",
            "--------------------------------------------------\n",
            "[ 0.9442 -0.2833  0.8793  0.9949  0.6115 -0.4985  0.5146]\n",
            "--------------------------------------------------\n",
            "[ 3. -6.  2.  6.  6. -1.  4.]\n"
          ]
        }
      ],
      "source": [
        "# 흔하진 않지만, 여러 개의 배열을 반환하는 유니버설 함수도 있음.\n",
        "# numpy.modf()는 분수를 받아서, 몫과 나머지를 배열로 반환함.\n",
        "# 파이썬 내장 모듈의 메소드 math.modf()의 벡터화 버전임.\n",
        "\n",
        "arr = rng.standard_normal(7) * 5\n",
        "print(arr)\n",
        "line()\n",
        "\n",
        "remainder, whole_part = np.modf(arr)\n",
        "print(remainder)\n",
        "line()\n",
        "print(whole_part)\n"
      ]
    },
    {
      "cell_type": "code",
      "execution_count": 132,
      "metadata": {
        "colab": {
          "base_uri": "https://localhost:8080/"
        },
        "id": "-2-i1iPc4Bl0",
        "outputId": "6e6a5781-0b68-45b9-f610-d87e055e91bf"
      },
      "outputs": [
        {
          "name": "stdout",
          "output_type": "stream",
          "text": [
            "[0. 0. 0. 0. 0. 0. 0.]\n",
            "--------------------------------------------------\n",
            "[1. 1. 1. 1. 1. 1. 1.]\n",
            "--------------------------------------------------\n",
            "[2. 2. 2. 2. 2. 2. 2.]\n"
          ]
        }
      ],
      "source": [
        "# 유니버설 함수의 out 인자는 마치 inplace의 기능을 함.\n",
        "\n",
        "inplacement = np.zeros_like(arr)\n",
        "print(inplacement)\n",
        "line()\n",
        "\n",
        "print(np.add(inplacement, 1, out=inplacement))\n",
        "line()\n",
        "\n",
        "inplacement += 1\n",
        "print(inplacement)\n"
      ]
    },
    {
      "cell_type": "markdown",
      "metadata": {
        "id": "83XAJojO4Bl1"
      },
      "source": [
        "1. 단항 유니버설 함수\n",
        "    - abs, fabs: 각 원소(정수, 부동소수점수, 복소수)의 절댓값을 구\n",
        "함. 복소수가 아닌 경우에는 빠른 연산을 위해서 fabs를 사용함.\n",
        "    - sqrt: 각 원소의 제곱근을 계산함. arr ** 0.5와 동일함.\n",
        "    - square: 각 원소의 제곱을 계산함. arr ** 2와 동일함.\n",
        "    - exp: 각 원소에서 지수를 계산함.\n",
        "    - log, log10, log2, log1p: 각각 자연로그, 로그10, 로그2, 로그(1+x)\n",
        "    - sign: 각 원소의 부호를 계산한다. 1(양수), 0(영), -1(음수)\n",
        "    - ceil: 각 원소의 소수부를 올림. 각 원소의 값보다 같거나 큰 정수 중 가장 작은 정수를 반환함.\n",
        "    - floor: 각 원소의 소수부를 내림. 각 원소의 값보다 작거나 같은 정수 중 가장 작은 수를 반환함.\n",
        "    - rint: 각 원소의 소수부를 반올림함. dtype은 유지됨.\n",
        "    - modf: 각 원소의 몫과 나머지를 각각의 배열로 반환함.\n",
        "    - isnan: 각 원소가 숫자가 아닌지(NaN)를 나타내는 불리언 배열을 반환함.\n",
        "    - isfinite, isinf: 각 배열의 각 원소가 유한한지(non-inf, non-NaN) 무한한지 나타내는 불리언 배열을 반환함.\n",
        "    - cos, cosh, sin, sinh, tan, tanh: 일반 삼각함수와 쌍곡선삼각함수\n",
        "    - arccos, arccosh, arcsin, arcsinh, arctan, arctanh: 역삼각함수\n",
        "    - logical_not 각 원소의 논리 부정(not) 값을 계산한다. ~arr과 동일함.\n",
        "    \n",
        "    \n",
        "2. 이항 유니버설 함수\n",
        "    - add: 두 배열에서 같은 위치의 원소끼리 더함.\n",
        "    - subtract: 첫 번째 배열의 원소에서 두 번째 배열의 원소를 뺌.\n",
        "    - multiply: 배열의 원소끼리 곱함.\n",
        "    - divide, floor_divide: 첫 번째 배열의 원소를 두 번째 배열의 원소로 나\n",
        "눔. floor_divide는 몫만 취함.\n",
        "    - power: 첫 번째 배열의 원소를 두 번째 배열의 원소만큼 제곱함.\n",
        "    - maximum, fmax: 각 배열의 두 원소 중 큰 값을 반환함. fmax는 NaN을 무시함.\n",
        "    - minimum, fmin: 각 배열의 두 원소 중 작은 값을 반환\n",
        "함. fmin은 NaN을 무시함.\n",
        "    - mod: 첫 번째 배열의 원소를 두 번째 배열의 원소로 나눈 나머지를 구함.\n",
        "    - copysign: 첫 번째 배열의 원소의 기호를 두 번째 배열의 원소의 기호로 바꿈.\n",
        "    - greater, greater_equal, less: 각 두 원소 간의 >, >=, < 비교 연산 결과를 불리언 배열로 반환함.\n",
        "    - less_equal, equal, not_equal:  각 두 원소 간의 <=, ==, != 비교 연산 결과를 불리언 배열로 반환함.\n",
        "    - logical_and: 각 두 원소 간의 AND(&) 논리 연산 결과를 반환함.\n",
        "    - logical_or 각 두 원소 간의 OR(1)논리 연산 결과를 반환함.\n",
        "    - logical_xor 각 두 원소 간의 XOR (^) 논리 연산 결과를 반환함."
      ]
    },
    {
      "cell_type": "markdown",
      "metadata": {
        "id": "2S4g6hMf4Bl1"
      },
      "source": [
        "### 1.4.1. 유니버셜 함수 연습문제\n",
        "\n",
        "- 문제1: 주어진 리스트를 이용해 2차원 넘파이 배열을 만들고, 요소들의 합과 평균을 계산하세요.\n",
        "    - [[1, 2, 3], [4, 5, 6], [7, 8, 9]]\n",
        "\n",
        "- 문제2: 주어진 리스트를 이용해 1차원 넘파이 배열을 만들고, 배열의 최댓값과 최솟값을 찾아 출력하세요.\n",
        "    - [34, 12, 54, 28, 90, 5]\n",
        "\n",
        "- 문제3: 주어진 리스트를 이용해 1차원 넘파이 배열을 만들고, 오름차순으로 정렬한 배열을 생성하세요.\n",
        "    - [3, 1, 5, 8, 0, 5]\n",
        "\n",
        "- 문제4: 주어진 리스트를 이용해 1차원 넘파이 배열을 만들고, 중복된 요소를 제거한 배열을 생성하세요.\n",
        "    - [2, 3, 2, 5, 7, 3, 8, 8, 5]\n",
        "\n",
        "- 문제5: 주어진 두 개의 이중 리스트를 이용해 2차원 넘파이 배열을 만들고, 두 배열의 행렬곱 결과를 출력하세요.\n",
        "    - 리스트1: [[1, 2], [3, 4]]\n",
        "    - 리스트2: [[5, 6], [7, 8]]"
      ]
    },
    {
      "cell_type": "code",
      "execution_count": null,
      "metadata": {},
      "outputs": [],
      "source": []
    },
    {
      "cell_type": "markdown",
      "metadata": {
        "id": "70PWQdcn4Bl1"
      },
      "source": [
        "## 1.5. 배열 기반 프로그래밍\n",
        "- 넘파이 배열을 사용하면 반복문을 작성하지 않고 간결한 배열 연산을 통해 많은 종류의 데이터\n",
        "처리 작업을 할 수 있음.\n",
        "- 배열 연산을 사용해서 반복문을 명시적으로 제거하는 기법을 흔히 벡터화라고 부름.\n",
        "- 일반적으로 벡터화된 배열에 대한 산술 연산은 순수 파이썬 연산에 비해 2~3배에서 많게는 수십, 수백 배까지 빠름.\n",
        "- 브로드캐스팅은 아주 강력한 벡터 연산 방법임."
      ]
    },
    {
      "cell_type": "code",
      "execution_count": null,
      "metadata": {
        "colab": {
          "base_uri": "https://localhost:8080/"
        },
        "id": "Yunz5bFr4Bl2",
        "outputId": "b31762c4-e26a-40e8-8952-30ed29d609ff"
      },
      "outputs": [
        {
          "name": "stdout",
          "output_type": "stream",
          "text": [
            "1000\n",
            "(1000, 1000)\n",
            "(1000, 1000)\n"
          ]
        }
      ],
      "source": [
        "# 두 개의 1차원 배열을 받아서 모든 (x, y) 짝을 만들 수 있는 2차원 배열 두 개 반환함.\n",
        "\n",
        "points = np.arange(-5, 5, 0.01) # 1000 equally spaced points\n",
        "xs, ys = np.meshgrid(points, points)\n",
        "\n",
        "print(len(points))\n",
        "print(xs.shape)\n",
        "print(ys.shape)"
      ]
    },
    {
      "cell_type": "code",
      "execution_count": null,
      "metadata": {
        "colab": {
          "base_uri": "https://localhost:8080/"
        },
        "id": "BOrDD30vzlMg",
        "outputId": "4a187662-5834-41c1-a07c-3eec3e459b39"
      },
      "outputs": [
        {
          "name": "stdout",
          "output_type": "stream",
          "text": [
            "[[-5.   -4.99 -4.98 ...  4.97  4.98  4.99]\n",
            " [-5.   -4.99 -4.98 ...  4.97  4.98  4.99]\n",
            " [-5.   -4.99 -4.98 ...  4.97  4.98  4.99]\n",
            " ...\n",
            " [-5.   -4.99 -4.98 ...  4.97  4.98  4.99]\n",
            " [-5.   -4.99 -4.98 ...  4.97  4.98  4.99]\n",
            " [-5.   -4.99 -4.98 ...  4.97  4.98  4.99]]\n"
          ]
        }
      ],
      "source": [
        "print(xs)"
      ]
    },
    {
      "cell_type": "code",
      "execution_count": null,
      "metadata": {
        "colab": {
          "base_uri": "https://localhost:8080/"
        },
        "id": "a_MGLlROzqNz",
        "outputId": "19737ef9-cf84-43cb-a793-69d21a36f986"
      },
      "outputs": [
        {
          "name": "stdout",
          "output_type": "stream",
          "text": [
            "[[-5.   -5.   -5.   ... -5.   -5.   -5.  ]\n",
            " [-4.99 -4.99 -4.99 ... -4.99 -4.99 -4.99]\n",
            " [-4.98 -4.98 -4.98 ... -4.98 -4.98 -4.98]\n",
            " ...\n",
            " [ 4.97  4.97  4.97 ...  4.97  4.97  4.97]\n",
            " [ 4.98  4.98  4.98 ...  4.98  4.98  4.98]\n",
            " [ 4.99  4.99  4.99 ...  4.99  4.99  4.99]]\n"
          ]
        }
      ],
      "source": [
        "print(ys)"
      ]
    },
    {
      "cell_type": "code",
      "execution_count": null,
      "metadata": {
        "colab": {
          "base_uri": "https://localhost:8080/"
        },
        "id": "huISH3pa4Bl3",
        "outputId": "384c74f8-c087-40a5-ce45-b67246a6a4ba"
      },
      "outputs": [
        {
          "name": "stdout",
          "output_type": "stream",
          "text": [
            "(1000, 1000)\n",
            "[[7.07106781 7.06400028 7.05693985 ... 7.04988652 7.05693985 7.06400028]\n",
            " [7.06400028 7.05692568 7.04985815 ... 7.04279774 7.04985815 7.05692568]\n",
            " [7.05693985 7.04985815 7.04278354 ... 7.03571603 7.04278354 7.04985815]\n",
            " ...\n",
            " [7.04988652 7.04279774 7.03571603 ... 7.0286414  7.03571603 7.04279774]\n",
            " [7.05693985 7.04985815 7.04278354 ... 7.03571603 7.04278354 7.04985815]\n",
            " [7.06400028 7.05692568 7.04985815 ... 7.04279774 7.04985815 7.05692568]]\n"
          ]
        }
      ],
      "source": [
        "z = np.sqrt(xs ** 2 + ys ** 2)\n",
        "print(z.shape)\n",
        "print(z)"
      ]
    },
    {
      "cell_type": "code",
      "execution_count": null,
      "metadata": {
        "id": "a2VEAdJq4Bl4",
        "outputId": "a3fd0430-2711-46a6-8284-559269a768c8"
      },
      "outputs": [
        {
          "data": {
            "text/plain": [
              "Text(0.5, 1.0, 'Image plot of $\\\\sqrt{x^2 + y^2}$ for a grid of values')"
            ]
          },
          "execution_count": 147,
          "metadata": {},
          "output_type": "execute_result"
        },
        {
          "data": {
            "image/png": "[encoded data removed]",
            "text/plain": [
              "<Figure size 1000x600 with 2 Axes>"
            ]
          },
          "metadata": {},
          "output_type": "display_data"
        }
      ],
      "source": [
        "# 시각화\n",
        "\n",
        "import matplotlib.pyplot as plt\n",
        "\n",
        "plt.imshow(z, cmap=plt.cm.gray, extent=[-5, 5, -5, 5])\n",
        "plt.colorbar()\n",
        "plt.title(\"Image plot of $\\sqrt{x^2 + y^2}$ for a grid of values\")"
      ]
    },
    {
      "cell_type": "code",
      "execution_count": null,
      "metadata": {
        "id": "AfxpqiuZ4Bl5"
      },
      "outputs": [],
      "source": [
        "# IPython에서 작업하는 경우 다음 명령어는 모든 플롯 창을 닫을 수 있음.\n",
        "\n",
        "plt.close(\"all\")"
      ]
    },
    {
      "cell_type": "markdown",
      "metadata": {
        "id": "LygXLHqG4Bl5"
      },
      "source": [
        "### 1.5.1. 배열 연산으로 조건부 표현하기\n",
        "\n",
        "- numpy.where()\n",
        "    - x if 조건 else y 같은 삼항식의 벡터화 버전임."
      ]
    },
    {
      "cell_type": "code",
      "execution_count": 136,
      "metadata": {
        "id": "Y6WMo3dR4Bl5"
      },
      "outputs": [],
      "source": [
        "xarr = np.array([1.1, 1.2, 1.3, 1.4, 1.5])\n",
        "yarr = np.array([2.1, 2.2, 2.3, 2.4, 2.5])\n",
        "cond = np.array([True, False, True, True, False])"
      ]
    },
    {
      "cell_type": "code",
      "execution_count": 137,
      "metadata": {
        "colab": {
          "base_uri": "https://localhost:8080/"
        },
        "id": "FcTUxPbe4Bl6",
        "outputId": "27221597-af63-42a2-d28b-64b823f5b291"
      },
      "outputs": [
        {
          "data": {
            "text/plain": [
              "[1.1, 2.2, 1.3, 1.4, 2.5]"
            ]
          },
          "execution_count": 137,
          "metadata": {},
          "output_type": "execute_result"
        }
      ],
      "source": [
        "result = [(x if c else y)\n",
        "          for x, y, c in zip(xarr, yarr, cond)]\n",
        "result"
      ]
    },
    {
      "cell_type": "code",
      "execution_count": 138,
      "metadata": {
        "colab": {
          "base_uri": "https://localhost:8080/"
        },
        "id": "1RIPZx4k4Bl6",
        "outputId": "80f83b66-c1dd-416c-bb77-424ef2c7e987"
      },
      "outputs": [
        {
          "data": {
            "text/plain": [
              "array([1.1, 2.2, 1.3, 1.4, 2.5])"
            ]
          },
          "execution_count": 138,
          "metadata": {},
          "output_type": "execute_result"
        }
      ],
      "source": [
        "# 위와 완전히 동일한 명령어\n",
        "# 조건과 두 배열을 사용\n",
        "\n",
        "result = np.where(cond, xarr, yarr)\n",
        "result"
      ]
    },
    {
      "cell_type": "code",
      "execution_count": 139,
      "metadata": {
        "colab": {
          "base_uri": "https://localhost:8080/"
        },
        "id": "1Py0ydeBStO1",
        "outputId": "dcb966e9-083f-4460-ba19-255b642077a9"
      },
      "outputs": [
        {
          "data": {
            "text/plain": [
              "array([1.1, 0. , 1.3, 1.4, 0. ])"
            ]
          },
          "execution_count": 139,
          "metadata": {},
          "output_type": "execute_result"
        }
      ],
      "source": [
        "# scalar도 가능\n",
        "\n",
        "result2 = np.where(cond, xarr, 0)\n",
        "result2"
      ]
    },
    {
      "cell_type": "code",
      "execution_count": 140,
      "metadata": {
        "colab": {
          "base_uri": "https://localhost:8080/"
        },
        "id": "2cOeOyaB4Bl6",
        "outputId": "f7917d7a-b44f-4c12-b003-31b56f791453"
      },
      "outputs": [
        {
          "name": "stdout",
          "output_type": "stream",
          "text": [
            "[[-1.6216 -0.1582  0.4495 -1.3436]\n",
            " [-0.0817  1.7247  2.6182  0.7774]\n",
            " [ 0.8286 -0.959  -1.2094 -1.4123]\n",
            " [ 0.5415  0.7519 -0.6588 -1.2287]]\n",
            "--------------------------------------------------\n",
            "[[False False  True False]\n",
            " [False  True  True  True]\n",
            " [ True False False False]\n",
            " [ True  True False False]]\n",
            "[[-2 -2  2 -2]\n",
            " [-2  2  2  2]\n",
            " [ 2 -2 -2 -2]\n",
            " [ 2  2 -2 -2]]\n"
          ]
        }
      ],
      "source": [
        "# np.where() 예시\n",
        "# 조건과 두 스칼라 사용\n",
        "\n",
        "arr = rng.standard_normal((4, 4))\n",
        "print(arr)\n",
        "line()\n",
        "\n",
        "print(arr > 0)\n",
        "print(np.where(arr > 0, 2, -2))"
      ]
    },
    {
      "cell_type": "code",
      "execution_count": 141,
      "metadata": {
        "colab": {
          "base_uri": "https://localhost:8080/"
        },
        "id": "sQSiXVcX4Bl7",
        "outputId": "a5d015ec-7a01-4053-9fb4-73e7bf758f84"
      },
      "outputs": [
        {
          "data": {
            "text/plain": [
              "array([[-1.6216, -0.1582,  2.    , -1.3436],\n",
              "       [-0.0817,  2.    ,  2.    ,  2.    ],\n",
              "       [ 2.    , -0.959 , -1.2094, -1.4123],\n",
              "       [ 2.    ,  2.    , -0.6588, -1.2287]])"
            ]
          },
          "execution_count": 141,
          "metadata": {},
          "output_type": "execute_result"
        }
      ],
      "source": [
        "# arr에서 양수의 요소는 2로, 음수면 arr값 그대로 갖음.\n",
        "# 조건과 하나의 scalar와 하나의 배열\n",
        "\n",
        "np.where(arr > 0, 2, arr) # set only positive values to 2"
      ]
    },
    {
      "cell_type": "markdown",
      "metadata": {
        "id": "9bU2bL004Bl8"
      },
      "source": [
        "### 1.5.2. 수학 메서드와 통계 메서드\n",
        "\n",
        "- 배열 클래스의 메서드\n",
        "    - 배열 전체 혹은 배열의 한 축에 속하는 자료에서 통계를 계산하는 수학 함수 제공\n",
        "    - 합(sum), 평균(mean), 표준편차(std)"
      ]
    },
    {
      "cell_type": "code",
      "execution_count": 142,
      "metadata": {
        "colab": {
          "base_uri": "https://localhost:8080/"
        },
        "id": "TV6XNaEK4Bl8",
        "outputId": "2585d3d1-582b-498f-9550-e356421222db"
      },
      "outputs": [
        {
          "name": "stdout",
          "output_type": "stream",
          "text": [
            "[[-1.4238  1.2637 -0.8707 -0.2592]\n",
            " [-0.0753 -0.7409 -1.3678  0.6489]\n",
            " [ 0.3611 -1.9529  2.3474  0.9685]\n",
            " [-0.7594  0.9022 -0.467  -0.0607]\n",
            " [ 0.7888 -1.2567  0.5759  1.399 ]]\n",
            "--------------------------------------------------\n",
            "0.0010611661248891013\n",
            "0.0010611661248891013\n",
            "0.021223322497782027\n"
          ]
        }
      ],
      "source": [
        "import numpy as np\n",
        "\n",
        "rng = np.random.default_rng(seed=12345)\n",
        "\n",
        "arr = rng.standard_normal((5, 4))\n",
        "print(arr)\n",
        "line()\n",
        "\n",
        "print(arr.mean())\n",
        "print(np.mean(arr))\n",
        "print(arr.sum())"
      ]
    },
    {
      "cell_type": "code",
      "execution_count": 144,
      "metadata": {
        "colab": {
          "base_uri": "https://localhost:8080/"
        },
        "id": "U1LylpNg4Bl8",
        "outputId": "7f57b7a1-b39d-49f9-dbfd-8c44ac9a403c"
      },
      "outputs": [
        {
          "name": "stdout",
          "output_type": "stream",
          "text": [
            "(5, 4)\n",
            "--------------------------------------------------\n",
            "[-0.3225 -0.3838  0.431  -0.0962  0.3768]\n",
            "--------------------------------------------------\n",
            "[-1.1087 -1.7845  0.2179  2.6965]\n"
          ]
        }
      ],
      "source": [
        "# 축을 지정하여 지정 축을 따라 계산하고 한 차수 낮은 배열을 반환함.\n",
        "\n",
        "print(arr.shape)\n",
        "line()\n",
        "print(arr.mean(axis=1))\n",
        "line()\n",
        "print(arr.sum(axis=0))"
      ]
    },
    {
      "cell_type": "code",
      "execution_count": 145,
      "metadata": {
        "colab": {
          "base_uri": "https://localhost:8080/"
        },
        "id": "Qfkh_0o04Bl9",
        "outputId": "295758d0-f0ea-4c9f-9463-67a76f7af01f"
      },
      "outputs": [
        {
          "data": {
            "text/plain": [
              "array([ 0,  1,  3,  6, 10, 15, 21, 28])"
            ]
          },
          "execution_count": 145,
          "metadata": {},
          "output_type": "execute_result"
        }
      ],
      "source": [
        "# cumsum은 sum을 하되, 누적 sum을 배열에 저장함.\n",
        "# 다차원 배열에서 cumsum 같은 누적 함수는 크기(shape이 아님)가 동일한 배열을 반환함.\n",
        "\n",
        "arr = np.array([0, 1, 2, 3, 4, 5, 6, 7])\n",
        "arr.cumsum()"
      ]
    },
    {
      "cell_type": "code",
      "execution_count": 146,
      "metadata": {
        "colab": {
          "base_uri": "https://localhost:8080/"
        },
        "id": "tiyGg6Ic4Bl9",
        "outputId": "81beb2e0-8a6d-4193-9e39-31fb71b6cbdd"
      },
      "outputs": [
        {
          "name": "stdout",
          "output_type": "stream",
          "text": [
            "[[0 1 2]\n",
            " [3 4 5]\n",
            " [6 7 8]]\n",
            "--------------------------------------------------\n",
            "[ 0  1  3  6 10 15 21 28 36]\n"
          ]
        }
      ],
      "source": [
        "arr = np.array([[0, 1, 2], [3, 4, 5], [6, 7, 8]])\n",
        "\n",
        "print(arr)\n",
        "line()\n",
        "print(arr.cumsum())"
      ]
    },
    {
      "cell_type": "code",
      "execution_count": 147,
      "metadata": {
        "colab": {
          "base_uri": "https://localhost:8080/"
        },
        "id": "Dqk3ZCwr4Bl-",
        "outputId": "6af0b8e2-8099-4963-d991-229f34cca69d"
      },
      "outputs": [
        {
          "name": "stdout",
          "output_type": "stream",
          "text": [
            "[[0 1 2]\n",
            " [3 4 5]\n",
            " [6 7 8]]\n",
            "--------------------------------------------------\n",
            "[[ 0  1  2]\n",
            " [ 3  5  7]\n",
            " [ 9 12 15]]\n",
            "--------------------------------------------------\n",
            "[[ 0  1  3]\n",
            " [ 3  7 12]\n",
            " [ 6 13 21]]\n",
            "--------------------------------------------------\n"
          ]
        }
      ],
      "source": [
        "# 하지만 축을 지정해 부분적으로 계산하면 낮은 차수의 슬라이스를 반환함.\n",
        "\n",
        "print(arr)\n",
        "line()\n",
        "\n",
        "print(arr.cumsum(axis=0))\n",
        "line()\n",
        "\n",
        "print(arr.cumsum(axis=1))\n",
        "line()"
      ]
    },
    {
      "cell_type": "markdown",
      "metadata": {
        "id": "NNKHl6Hi4Bl_"
      },
      "source": [
        "- 기본 배열 기술 통계 메서드\n",
        "    - sum: 배열 전체 혹은 특정 축에 대한 모든 원소의 합을 계산함. 크기가0인 배열의 sum 결과는 0임.\n",
        "    - mean: 산술 평균. 크기가 0인 배열의 mean 결과는 NaN임.\n",
        "    - std, var: 각각 표준편차(std)와 분산(var)을 구함. 선택적으로 자유도를 줄 수 있으며 분모의 기본값은 n임.\n",
        "    - min. max: 최솟값과 최댓값\n",
        "    - argmin, argmax: 최소 원소의 색인값과 최대 원소의 색인값\n",
        "    - cumsum: 0부터 시작하는 각 원소의 누적합\n",
        "    - cumprod: 1부터 시작하는 각 원소의 누적곱"
      ]
    },
    {
      "cell_type": "markdown",
      "metadata": {
        "id": "QB8ZDrbJ4Bl_"
      },
      "source": [
        "### 1.5.3. 불리언 배열을 위한 메서드\n",
        "\n",
        "- 불리언 배열에서 sum 메서드를 사용하면 True인 원소의 개수를 반환함."
      ]
    },
    {
      "cell_type": "code",
      "execution_count": null,
      "metadata": {
        "id": "ClpYktF-4Bl_",
        "outputId": "5b1ae8f0-1df7-43a0-a43d-85dd978ad202"
      },
      "outputs": [
        {
          "name": "stdout",
          "output_type": "stream",
          "text": [
            "52\n",
            "48\n"
          ]
        }
      ],
      "source": [
        "arr = rng.standard_normal(100)\n",
        "\n",
        "print((arr > 0).sum()) # Number of positive values\n",
        "print((arr <= 0).sum()) # Number of non-positive values"
      ]
    },
    {
      "cell_type": "code",
      "execution_count": 148,
      "metadata": {
        "colab": {
          "base_uri": "https://localhost:8080/"
        },
        "id": "rPPwh1cQ4Bl_",
        "outputId": "63d4e6fa-9ea3-435c-96e8-30dccdabdcf0"
      },
      "outputs": [
        {
          "name": "stdout",
          "output_type": "stream",
          "text": [
            "[ True  True False  True]\n",
            "--------------------------------------------------\n",
            "True\n",
            "--------------------------------------------------\n",
            "False\n",
            "--------------------------------------------------\n",
            "False\n"
          ]
        }
      ],
      "source": [
        "# ndarray의 메서드 any()는 배열에서 하나 이상의 True 값이 있는지 검사하고 불리언을 리턴함.\n",
        "# ndarray의 메서드 all()는 배열의 모든 요소가 True인지 검사하고 불리언을 리턴함.\n",
        "# 배열은 반드시 불리언이 아니어도 되며, 0이 아닌 요소는 모두 True로 간주함.\n",
        "\n",
        "import numpy as np\n",
        "\n",
        "bools = np.array([False, False, True, False])\n",
        "print(~bools)\n",
        "line()\n",
        "print(bools.any())\n",
        "line()\n",
        "print(bools.all())\n",
        "line()\n",
        "# numpy에 정의된 all() 함수 사용\n",
        "print(np.all(bools))"
      ]
    },
    {
      "cell_type": "markdown",
      "metadata": {
        "id": "nRvVEefn4Bl_"
      },
      "source": [
        "### 1.5.4. 정렬\n",
        "\n",
        "- 배열의 정렬을 위해 numpy.sort() 또는 ndarray.sort() 사용\n",
        "- 사용 시 미묘한 차이\n",
        "    - ndarray.sort() : 정렬 결과를 배열에 바로 적용시킴.\n",
        "    - numpy.sort(ndarray) : 정렬 결과를 복사본으로 return함."
      ]
    },
    {
      "cell_type": "code",
      "execution_count": 149,
      "metadata": {
        "colab": {
          "base_uri": "https://localhost:8080/"
        },
        "id": "W_MI_moP4BmA",
        "outputId": "7ad3b0e6-b079-40c1-f8f9-55f20aa55bfe"
      },
      "outputs": [
        {
          "name": "stdout",
          "output_type": "stream",
          "text": [
            "[-1.4238  1.2637 -0.8707 -0.2592 -0.0753 -0.7409]\n",
            "--------------------------------------------------\n",
            "[-1.4238 -0.8707 -0.7409 -0.2592 -0.0753  1.2637]\n"
          ]
        }
      ],
      "source": [
        "# ndarray.sort() 적용\n",
        "\n",
        "rng = np.random.default_rng(seed=12345)\n",
        "\n",
        "arr = rng.standard_normal(6)\n",
        "\n",
        "print(arr)\n",
        "line()\n",
        "\n",
        "arr.sort()  # 자기 객체로 return을 반환함.\n",
        "print(arr)"
      ]
    },
    {
      "cell_type": "code",
      "execution_count": 150,
      "metadata": {
        "colab": {
          "base_uri": "https://localhost:8080/"
        },
        "id": "wjun9GGA4BmA",
        "outputId": "6475ce75-463b-40ed-96ba-08642de88f98"
      },
      "outputs": [
        {
          "name": "stdout",
          "output_type": "stream",
          "text": [
            "[[-1.3678  0.6489  0.3611]\n",
            " [-1.9529  2.3474  0.9685]\n",
            " [-0.7594  0.9022 -0.467 ]\n",
            " [-0.0607  0.7888 -1.2567]\n",
            " [ 0.5759  1.399   1.3223]]\n",
            "--------------------------------------------------\n",
            "[[-1.9529  0.6489 -1.2567]\n",
            " [-1.3678  0.7888 -0.467 ]\n",
            " [-0.7594  0.9022  0.3611]\n",
            " [-0.0607  1.399   0.9685]\n",
            " [ 0.5759  2.3474  1.3223]]\n"
          ]
        }
      ],
      "source": [
        "# axis=0를 지정해 주어, axis를 따라 sort를 진행함.\n",
        "arr = rng.standard_normal((5, 3))\n",
        "\n",
        "print(arr)\n",
        "line()\n",
        "\n",
        "arr.sort(axis=0)\n",
        "print(arr)\n"
      ]
    },
    {
      "cell_type": "code",
      "execution_count": 151,
      "metadata": {
        "colab": {
          "base_uri": "https://localhost:8080/"
        },
        "id": "gxYfDdeq4BmA",
        "outputId": "3c9ea7ac-94fe-48b5-9535-85490f738b55"
      },
      "outputs": [
        {
          "name": "stdout",
          "output_type": "stream",
          "text": [
            "[[-0.2997  0.9029 -1.6216]\n",
            " [-0.1582  0.4495 -1.3436]\n",
            " [-0.0817  1.7247  2.6182]\n",
            " [ 0.7774  0.8286 -0.959 ]\n",
            " [-1.2094 -1.4123  0.5415]]\n",
            "--------------------------------------------------\n",
            "[[-1.6216 -0.2997  0.9029]\n",
            " [-1.3436 -0.1582  0.4495]\n",
            " [-0.0817  1.7247  2.6182]\n",
            " [-0.959   0.7774  0.8286]\n",
            " [-1.4123 -1.2094  0.5415]]\n"
          ]
        }
      ],
      "source": [
        "# axis=1를 지정해 주어, axis를 따라 sort를 진행함.\n",
        "arr = rng.standard_normal((5, 3))\n",
        "\n",
        "print(arr)\n",
        "line()\n",
        "\n",
        "arr.sort(axis=1)\n",
        "print(arr)"
      ]
    },
    {
      "cell_type": "code",
      "execution_count": 152,
      "metadata": {
        "colab": {
          "base_uri": "https://localhost:8080/"
        },
        "id": "su0lZRZHl-Yf",
        "outputId": "7aba4e47-e8f7-4b15-fb83-b5a51f0be14e"
      },
      "outputs": [
        {
          "name": "stdout",
          "output_type": "stream",
          "text": [
            "[[ 0.7519 -0.6588 -1.2287]\n",
            " [ 0.2576  0.3129 -0.1308]\n",
            " [ 1.27   -0.093  -0.0662]]\n",
            "--------------------------------------------------\n",
            "[[-1.2287 -0.6588  0.7519]\n",
            " [-0.1308  0.2576  0.3129]\n",
            " [-0.093  -0.0662  1.27  ]]\n"
          ]
        }
      ],
      "source": [
        "arr = rng.standard_normal((3, 3))\n",
        "\n",
        "print(arr)\n",
        "line()\n",
        "\n",
        "arr.sort() # 기본값 axis=1\n",
        "print(arr)"
      ]
    },
    {
      "cell_type": "code",
      "execution_count": 153,
      "metadata": {
        "colab": {
          "base_uri": "https://localhost:8080/"
        },
        "id": "EpETW55D4BmB",
        "outputId": "321d560a-53cc-48e7-97b8-17900d3946e4"
      },
      "outputs": [
        {
          "name": "stdout",
          "output_type": "stream",
          "text": [
            "[  5 -10   7   1   0  -3]\n",
            "--------------------------------------------------\n",
            "[-10  -3   0   1   5   7]\n",
            "--------------------------------------------------\n",
            "[  5 -10   7   1   0  -3]\n"
          ]
        }
      ],
      "source": [
        "# numpy.sort() 적용\n",
        "# 파이썬 내장함수 sorted()와 비슷함. 복사본을 반환함.\n",
        "\n",
        "arr2 = np.array([5, -10, 7, 1, 0, -3])\n",
        "\n",
        "print(arr2)\n",
        "line()\n",
        "\n",
        "sorted_arr2 = np.sort(arr2) # 배열을 직접 변경하지 않고 복사본을 반환함.\n",
        "print(sorted_arr2)\n",
        "line()\n",
        "print(arr2)"
      ]
    },
    {
      "cell_type": "code",
      "execution_count": 154,
      "metadata": {
        "colab": {
          "base_uri": "https://localhost:8080/"
        },
        "id": "wPMrFuo7nHSK",
        "outputId": "e62188e8-5247-4be6-be1b-0de6feae6c04"
      },
      "outputs": [
        {
          "name": "stdout",
          "output_type": "stream",
          "text": [
            "[-10, -3, 0, 1, 5, 7]\n",
            "--------------------------------------------------\n",
            "[  5 -10   7   1   0  -3]\n"
          ]
        }
      ],
      "source": [
        "sorted_arr3 = sorted(arr2)\n",
        "print(sorted_arr3)\n",
        "line()\n",
        "print(arr2)"
      ]
    },
    {
      "cell_type": "markdown",
      "metadata": {
        "id": "JzWcnct44BmB"
      },
      "source": [
        "### 1.5.5. 집합 관련 함수"
      ]
    },
    {
      "cell_type": "code",
      "execution_count": 155,
      "metadata": {
        "colab": {
          "base_uri": "https://localhost:8080/"
        },
        "id": "LCWe8wxm4BmC",
        "outputId": "102dda58-0e43-483b-c413-c9542e12e82b"
      },
      "outputs": [
        {
          "name": "stdout",
          "output_type": "stream",
          "text": [
            "['Bob' 'Joe' 'Will']\n",
            "[1 2 3 4]\n"
          ]
        }
      ],
      "source": [
        "# 1d unique() 적용\n",
        "\n",
        "names = np.array([\"Bob\", \"Will\", \"Joe\", \"Bob\", \"Will\", \"Joe\", \"Joe\"])\n",
        "print(np.unique(names))\n",
        "\n",
        "ints = np.array([3, 3, 3, 2, 2, 1, 1, 4, 4])\n",
        "print(np.unique(ints))"
      ]
    },
    {
      "cell_type": "code",
      "execution_count": 156,
      "metadata": {
        "colab": {
          "base_uri": "https://localhost:8080/"
        },
        "id": "OgXIRV9I4BmC",
        "outputId": "7805b09e-2e1c-408e-b1e3-3b985e95780d"
      },
      "outputs": [
        {
          "data": {
            "text/plain": [
              "['Bob', 'Joe', 'Will']"
            ]
          },
          "execution_count": 156,
          "metadata": {},
          "output_type": "execute_result"
        }
      ],
      "source": [
        "# 위 코드와 동일한 결과\n",
        "\n",
        "sorted(set(names))"
      ]
    },
    {
      "cell_type": "code",
      "execution_count": 157,
      "metadata": {
        "colab": {
          "base_uri": "https://localhost:8080/"
        },
        "id": "_QegfcXY4BmC",
        "outputId": "0d28e075-5789-4e3a-d7ba-4bf81b3cb26b"
      },
      "outputs": [
        {
          "data": {
            "text/plain": [
              "array(['1', '10', '2', '3', '4', 'Bob', 'Joe', 'Will'], dtype='<U21')"
            ]
          },
          "execution_count": 157,
          "metadata": {},
          "output_type": "execute_result"
        }
      ],
      "source": [
        "# 다차원 적용\n",
        "# 집합은 순서가 없지만, numpy에서 ndarray로 표현을 할때 정렬이 되어 들어감.\n",
        "\n",
        "names = np.array([[\"Bob\", \"Will\", \"Joe\", \"Bob\", \"Will\", \"Joe\", \"Joe\"],\n",
        "                  [\"Bob\", \"Will\", \"Joe\", \"Bob\", \"Will\", \"Joe\", \"Joe\"],\n",
        "                  [1, 1, 2, 3, 4, 3, 10]])\n",
        "np.unique(names)\n"
      ]
    },
    {
      "cell_type": "code",
      "execution_count": null,
      "metadata": {
        "id": "O8M7ip484BmC",
        "outputId": "92f39827-0b51-4ad8-82b6-7e7f45c06077"
      },
      "outputs": [
        {
          "name": "stdout",
          "output_type": "stream",
          "text": [
            "[ True False False  True  True False  True]\n"
          ]
        }
      ],
      "source": [
        "# numpy.in1d(기준배열, 조건배열) 함수\n",
        "# 기준배열 요소에 조건배열 요소가 포함되면 True, 포함되지 않으면 False를 요소로 하는 배열을 return함.\n",
        "# 매우 유용한 메서드임.\n",
        "\n",
        "values = np.array([6, 0, 0, 3, 2, 5, 6])\n",
        "print(np.in1d(values, [2, 3, 6]))"
      ]
    },
    {
      "cell_type": "markdown",
      "metadata": {
        "id": "kUP-J9Bz4BmD"
      },
      "source": [
        "- 배열 집합 연산\n",
        "    - unique(x): 배열 x에서 중복된 원소를 제거한 뒤 정렬해 반환함.\n",
        "    - intersect1d(x, y): 배열 x와 y에 공통적으로 존재하는 원소를 정렬해 반환\u001f.\n",
        "    - union1d(x, y): 두 배열의 합집합을 반환함.\n",
        "    - in1d(x, y): x의 원소가 y의 원소에 포함되는지 나타내는 불리언 배열을 반환\n",
        "함.\n",
        "    - setdiff1d(x, y): x와 y의 차집합을 반환\u001f.\n",
        "    - setxor1d(x, y): 한 배열에는 포함되지만 두 배열 모두에는 포함되지 않는 원소들의 집합인 대칭차집합을 반환함."
      ]
    },
    {
      "cell_type": "markdown",
      "metadata": {
        "id": "1d8m_fM04BmD"
      },
      "source": [
        "### 1.5.6. 배열 연산 연습문제\n",
        "\n",
        "- 문제1: 다음 문제를 푸세요.\n",
        "    - 다음 함수를 정의하세요: f(x, y) = sin(x) * cos(y)\n",
        "    -  -2π부터 2π까지 범위에서 x와 y 좌표를 계산하는 2차원 그리드 포인트를 생성하세요. 그리드 포인트에서 각 점에서 함수 f(x, y)의 값을 계산하고 이를 2차원 배열로 저장하세요.\n",
        "\n",
        "- 문제2: 다음 리스트를 1차원 배열로 만들고, 배열에서 짝수인 요소는 그대로 두고, 홀수인 요소는 1을 더한 새로운 배열을 생성하세요. 즉, 조건에 따라 배열의 값을 변경하고 그 결과를 출력하세요.\n",
        "    - 리스트: [1, 2, 3, 4, 5, 6, 7, 8, 9, 10, 11, 12, 13, 14]\n",
        "\n",
        "- 문제3: 다음 리스트를 배열로 만들고, 배열에서 적어도 하나의 요소가 'True'를 가지는지 확인하고, 만약 그렇다면, 그 배열에서 'True'의 개수가 몇 개인지 보이세요.\n",
        "    - 리스트: [True, False, True, False, False]\n",
        "\n",
        "- 문제4: 다음 리스트를 배열로 만들고, 배열을 오름차순으로 정렬하세요. 그리고 배열의 각 원소의 순위를 새로운 배열로 만들고 출력하세요. (동률인 경우 평균 순위를 사용하세요)\n",
        "    - 리스트: [9, 2, 6, 3, 5]"
      ]
    },
    {
      "cell_type": "code",
      "execution_count": null,
      "metadata": {},
      "outputs": [],
      "source": []
    },
    {
      "cell_type": "markdown",
      "metadata": {
        "id": "8zu3nw2o4BmD"
      },
      "source": [
        "## 1.6. 배열 데이터의 파일 입출력\n",
        "\n",
        "- 넘파이는 디스크에서 텍스트나 바이너리 형식의 데이터를 불러오거나 저장할 수 있음.\n",
        "- 넘파이의 내장 이진 형식에 대해 알아봄.\n",
        "- 배열 데이터를 효과적으로 디스크에 저장하고 불러오는 함수\n",
        "    - numpy.save(): 저장하는 함수\n",
        "    - numpy.load() : 불러오는 함수\n",
        "- 배열은 기본적으로 압축되지 않은 원시(raw) 바이너리 형식의 .npy 파일로 저장됨."
      ]
    },
    {
      "cell_type": "code",
      "execution_count": null,
      "metadata": {
        "id": "GoClF8YC4BmE"
      },
      "outputs": [],
      "source": [
        "# np.save('파일명', 배열)\n",
        "# 파일명에 .npy 확장자를 쓰지 않으면 자동으로 추가됨.\n",
        "\n",
        "arr = np.arange(10)\n",
        "np.save(\"some_array.npy\", arr)"
      ]
    },
    {
      "cell_type": "code",
      "execution_count": null,
      "metadata": {
        "id": "4XdWOu8X4BmE",
        "outputId": "29edc361-124f-459d-9185-c3bad3029fed"
      },
      "outputs": [
        {
          "data": {
            "text/plain": [
              "array([0, 1, 2, 3, 4, 5, 6, 7, 8, 9])"
            ]
          },
          "execution_count": 192,
          "metadata": {},
          "output_type": "execute_result"
        }
      ],
      "source": [
        "# numpy.load('파일명')\n",
        "# 이때는 파일명에 반드시 확장자명 .npy를 붙여야 함.\n",
        "\n",
        "np.load(\"some_array.npy\")"
      ]
    },
    {
      "cell_type": "code",
      "execution_count": null,
      "metadata": {
        "id": "TGEeMc5c4BmE"
      },
      "outputs": [],
      "source": [
        "# numpy.savez() 함수를 사용하면 여러 개의 배열을 압축된 형식으로 저장할 수 있음.\n",
        "# 확장자는 .npz 임.\n",
        "# 저장하려는 배열은 키워드 인수 형태로 전달함.\n",
        "# dictionary의 key, value로 데이터가 저장되어 있다고 생각해도 됨.\n",
        "\n",
        "np.savez(\"array_archive.npz\", a=arr, b=arr)"
      ]
    },
    {
      "cell_type": "code",
      "execution_count": null,
      "metadata": {
        "id": "_s0iQqkK4BmE",
        "outputId": "2ce28071-b4c4-4e8e-cee5-dfba3988a1b3"
      },
      "outputs": [
        {
          "name": "stdout",
          "output_type": "stream",
          "text": [
            "<class 'numpy.lib.npyio.NpzFile'>\n"
          ]
        },
        {
          "data": {
            "text/plain": [
              "array([0, 1, 2, 3, 4, 5, 6, 7, 8, 9])"
            ]
          },
          "execution_count": 195,
          "metadata": {},
          "output_type": "execute_result"
        }
      ],
      "source": [
        "# .npz 파일을 불러올 때는 각 배열을 필요할 때 불러올 수 있도록 딕셔너리 형식의 객체에 저장함.\n",
        "# 정확하게는 딕셔너리는 아님.\n",
        "\n",
        "arch = np.load(\"array_archive.npz\")\n",
        "print(type(arch))\n",
        "\n",
        "arch[\"b\"]"
      ]
    },
    {
      "cell_type": "code",
      "execution_count": null,
      "metadata": {
        "id": "BxZXDot-4BmF"
      },
      "outputs": [],
      "source": [
        "# 압축이 잘되는 형식의 데이터라면 numpy.savez_compressed()를 사용함.\n",
        "\n",
        "np.savez_compressed(\"arrays_compressed.npz\", a=arr, b=arr)"
      ]
    },
    {
      "cell_type": "code",
      "execution_count": null,
      "metadata": {
        "id": "l2F8iwjL4BmF"
      },
      "outputs": [],
      "source": [
        "# 다음은 위에서 만든 .npy, npz 파일 지우는 명령어\n",
        "\n",
        "# !rm some_array.npy\n",
        "# !rm array_archive.npz\n",
        "# !rm arrays_compressed.npz"
      ]
    },
    {
      "cell_type": "markdown",
      "metadata": {
        "id": "OenKRqKc4BmG"
      },
      "source": [
        "## 1.7. 선형 대수\n",
        "\n",
        "- 행렬의 곱셈, 분할, 행렬식, 정사각행렬 등 계산"
      ]
    },
    {
      "cell_type": "code",
      "execution_count": 158,
      "metadata": {
        "colab": {
          "base_uri": "https://localhost:8080/"
        },
        "id": "W72k1Dcz4BmG",
        "outputId": "2bd5c102-f468-498a-9b56-fcad00efe174"
      },
      "outputs": [
        {
          "name": "stdout",
          "output_type": "stream",
          "text": [
            "(2, 3)\n",
            "(3, 2)\n",
            "[[ 28.  64.]\n",
            " [ 67. 181.]]\n"
          ]
        }
      ],
      "source": [
        "# 행렬곱 연산\n",
        "\n",
        "x = np.array([[1., 2., 3.],\n",
        "              [4., 5., 6.]])\n",
        "y = np.array([[6., 23.],\n",
        "              [-1, 7],\n",
        "              [8, 9]])\n",
        "print(x.shape)\n",
        "print(y.shape)\n",
        "\n",
        "print(x.dot(y))"
      ]
    },
    {
      "cell_type": "code",
      "execution_count": 159,
      "metadata": {
        "colab": {
          "base_uri": "https://localhost:8080/"
        },
        "id": "8rzFnNh64BmH",
        "outputId": "5160b1c3-ba31-46f0-9367-ddb607bcfdc3"
      },
      "outputs": [
        {
          "name": "stdout",
          "output_type": "stream",
          "text": [
            "[[ 28.  64.]\n",
            " [ 67. 181.]]\n",
            "--------------------------------------------------\n",
            "[[ 28.  64.]\n",
            " [ 67. 181.]]\n"
          ]
        }
      ],
      "source": [
        "# 위 예시와 동일한 결과\n",
        "\n",
        "print(np.dot(x, y))\n",
        "line()\n",
        "print(x @ y)"
      ]
    },
    {
      "cell_type": "code",
      "execution_count": 161,
      "metadata": {
        "colab": {
          "base_uri": "https://localhost:8080/"
        },
        "id": "hD4DxTJm4BmH",
        "outputId": "b3771c61-a01d-4730-b960-7dc4961ec6ea"
      },
      "outputs": [
        {
          "name": "stdout",
          "output_type": "stream",
          "text": [
            "(2,)\n",
            "[ 6. 15.]\n"
          ]
        }
      ],
      "source": [
        "# (2, 3) 내적 (3,)\n",
        "# (2, 3) 내적 (3, 1) 이라고 생각하고 계산하고, 결국 결과는 행렬이 아닌 요소 2개를 갖는 벡터임.\n",
        "\n",
        "result = x @ np.ones(3)\n",
        "\n",
        "print(result.shape)\n",
        "print(result)"
      ]
    },
    {
      "cell_type": "code",
      "execution_count": 165,
      "metadata": {
        "colab": {
          "base_uri": "https://localhost:8080/"
        },
        "id": "zrFsdqnR4BmH",
        "outputId": "937c7011-5afa-4019-b7a6-89f487750690"
      },
      "outputs": [
        {
          "name": "stdout",
          "output_type": "stream",
          "text": [
            "(3, 3)\n",
            "[[ 1.3417  0.2838 -0.4905]\n",
            " [ 0.2838  2.0685  1.3155]\n",
            " [-0.4905  1.3155  5.7883]]\n",
            "--------------------------------------------------\n",
            "(3, 3)\n",
            "[[ 0.8252 -0.1843  0.1118]\n",
            " [-0.1843  0.6063 -0.1534]\n",
            " [ 0.1118 -0.1534  0.2171]]\n",
            "--------------------------------------------------\n",
            "[[ 1. -0.  0.]\n",
            " [-0.  1.  0.]\n",
            " [-0.  0.  1.]]\n",
            "--------------------------------------------------\n",
            "[[ 1. -0. -0.]\n",
            " [ 0.  1.  0.]\n",
            " [ 0. -0.  1.]]\n"
          ]
        }
      ],
      "source": [
        "# numpy.linalg는 행렬의 분할과 역행렬, 행렬식과 같은 연산을 포함함.\n",
        "# 역행렬은 정사각행렬이어야 함.\n",
        "# 행렬 @ 역행렬 --> 단위행렬\n",
        "\n",
        "from numpy.linalg import inv, qr\n",
        "\n",
        "X = rng.standard_normal((5, 3))\n",
        "\n",
        "# 행렬곱\n",
        "mat = X.T @ X\n",
        "print(mat.shape)\n",
        "print(mat)\n",
        "line()\n",
        "\n",
        "# 역행렬\n",
        "invmat = inv(mat)\n",
        "print(invmat.shape)\n",
        "print(invmat)\n",
        "line()\n",
        "\n",
        "# 단위행렬\n",
        "print(mat @ invmat)\n",
        "line()\n",
        "print(invmat @ mat)"
      ]
    },
    {
      "cell_type": "markdown",
      "metadata": {
        "id": "QNurljmy4BmI"
      },
      "source": [
        "## 1.8. numpy 기초 final 연습문제\n",
        "\n",
        "- 문제1) 다음 코드를 보고, 어떤 목적의 프로그램인지 해석하세요. 특히 random.randint(0, 1) 부분을 잘 해석해야 해요.\n",
        "```python\n",
        "    import random\n",
        "    position = 0\n",
        "    walk = [position]\n",
        "    nsteps = 1000\n",
        "    for _ in range(nsteps):\n",
        "        step = 1 if random.randint(0, 1) else -1\n",
        "        position += step\n",
        "        walk.append(position)\n",
        "```\n",
        "\n",
        "- 문제2) 다음 코드를 실행하여 코드의 결과를 시각화 하세요.\n",
        "```python\n",
        "    plt.figure()\n",
        "    plt.plot(walk[:100])\n",
        "```\n",
        "\n",
        "- 문제3) 문제1의 코드를 numpy를 이용하여 다시 작성하세요.\n",
        "    - nsteps, walk 변수명은 그대로 사용하세요.\n",
        "    - numpy.random, np.random.default_rng, rng.integer, np.where, ndarray.cumsum을 적절히 이용하세요.\n",
        "\n",
        "- 문제4) walk의 최소값, 최대값을 구하세요.\n",
        "\n",
        "- 문제5) 처음 시작점에서부터 거리 10 이상 떨어진 거리에 도달하기까지의 step을 구하는 코드를 작성하세요.\n",
        "\n",
        "- 문제6) 지금까지는 스텝 1000번의 계단 오르기 1회를 진행하는 프로그램이었어요. numpy 배열을 이용하여 1000번 계단 오르기 100회를 진행하는 코드를 작성하세요.\n",
        "\n",
        "- 문제7) 문제6에 대해, walks의 최소값, 최대값을 구하세요.\n",
        "\n",
        "- 문제8) walk의 누적합이 30 혹은 -30이 넘는 계단 오르기가 있다면, 그 개수가 몇 개인지 계산하세요.\n",
        "\n",
        "- 문제9) walk의 누적합이 30 혹은 -30이 넘는 계단 오르기에 대해 기준점을 넘는 최소 시점을 계산하세요.\n",
        "\n",
        "- 문제10) walk의 누적합이 30 혹은 -30이 넘는 계단 오르기에 대해 기준점을 넘는 최소 시점의 평균을 계산하세요."
      ]
    }
  ],
  "metadata": {
    "colab": {
      "provenance": [],
      "toc_visible": true
    },
    "kernelspec": {
      "display_name": "Python 3",
      "language": "python",
      "name": "python3"
    },
    "language_info": {
      "codemirror_mode": {
        "name": "ipython",
        "version": 3
      },
      "file_extension": ".py",
      "mimetype": "text/x-python",
      "name": "python",
      "nbconvert_exporter": "python",
      "pygments_lexer": "ipython3",
      "version": "3.8.10"
    }
  },
  "nbformat": 4,
  "nbformat_minor": 0
}
