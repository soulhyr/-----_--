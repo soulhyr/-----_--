{
 "cells": [
  {
   "attachments": {},
   "cell_type": "markdown",
   "id": "3ba0ac9c-6c14-4dcb-8890-0d777e7bd847",
   "metadata": {},
   "source": [
    "# 대표값 구하기"
   ]
  },
  {
   "attachments": {},
   "cell_type": "markdown",
   "id": "6f1afa08-c7e8-4612-9b21-94f50b572f14",
   "metadata": {},
   "source": [
    "## 평균값 구하기"
   ]
  },
  {
   "cell_type": "code",
   "execution_count": 1,
   "id": "3e13ebad-6033-4fe7-9c2d-33977d2a62b5",
   "metadata": {},
   "outputs": [
    {
     "name": "stdout",
     "output_type": "stream",
     "text": [
      "hello\n"
     ]
    }
   ],
   "source": [
    "# 넘파이 라이브러리 불러오기\n",
    "import numpy as np\n",
    "print('hello')"
   ]
  },
  {
   "cell_type": "code",
   "execution_count": 2,
   "id": "45290a7e-8dd5-478c-9ea1-8c6c0cb0e0d3",
   "metadata": {},
   "outputs": [
    {
     "data": {
      "text/plain": [
       "array([1, 2, 2, 2, 3, 3, 3, 4, 4, 5, 5, 5, 5, 5, 6, 6, 6, 1, 2, 1, 3, 5])"
      ]
     },
     "execution_count": 2,
     "metadata": {},
     "output_type": "execute_result"
    }
   ],
   "source": [
    "# 임의의 주사위 눈 데이터 만들기\n",
    "data = np.array([1,2,2,2,3,3,3,4,4,5,5,5,5,5,6,6,6,1,2,1,3,5])\n",
    "data"
   ]
  },
  {
   "cell_type": "code",
   "execution_count": 3,
   "id": "edc6df05-317c-40f2-bfc1-37c4bf1428aa",
   "metadata": {},
   "outputs": [
    {
     "name": "stdout",
     "output_type": "stream",
     "text": [
      "22\n"
     ]
    },
    {
     "data": {
      "text/plain": [
       "3.590909090909091"
      ]
     },
     "execution_count": 3,
     "metadata": {},
     "output_type": "execute_result"
    }
   ],
   "source": [
    "# 평균값 정의에 따라 평균값 구하기 \n",
    "summ = np.sum(data)\n",
    "length = len(data)\n",
    "print(length)\n",
    "\n",
    "mean_value = summ / length\n",
    "mean_value"
   ]
  },
  {
   "cell_type": "code",
   "execution_count": 4,
   "id": "469849db-cea5-4e5b-8377-e7ea79fbf239",
   "metadata": {},
   "outputs": [
    {
     "data": {
      "text/plain": [
       "3.590909090909091"
      ]
     },
     "execution_count": 4,
     "metadata": {},
     "output_type": "execute_result"
    }
   ],
   "source": [
    "# np.mean() 함수를 이용한 평균값 구하기\n",
    "np.mean(data)"
   ]
  },
  {
   "attachments": {},
   "cell_type": "markdown",
   "id": "5c3e0ce0-d998-496d-8bdb-c9fca1042cca",
   "metadata": {},
   "source": [
    "## 중앙값 구하기"
   ]
  },
  {
   "cell_type": "code",
   "execution_count": 5,
   "id": "a18f8d83-0538-4ba7-8c98-8a9af51b46f6",
   "metadata": {},
   "outputs": [
    {
     "data": {
      "text/plain": [
       "3.5"
      ]
     },
     "execution_count": 5,
     "metadata": {},
     "output_type": "execute_result"
    }
   ],
   "source": [
    "# np.median() 함수를 이용한 중앙값 구하기\n",
    "# 중앙값이 소수점으로 나타나게 된 것은, 데이터 수가 짝수이므로, 중심에 위치한 두 개의 데이터의 평균값으로 계산됨.\n",
    "np.median(data)"
   ]
  },
  {
   "attachments": {},
   "cell_type": "markdown",
   "id": "dbd550eb-9155-4edd-a53e-e0186b1d0a73",
   "metadata": {},
   "source": [
    "## 최빈값 구하기"
   ]
  },
  {
   "cell_type": "code",
   "execution_count": 7,
   "id": "f02560ac-647f-4d3c-b502-37272deefa2d",
   "metadata": {},
   "outputs": [
    {
     "name": "stdout",
     "output_type": "stream",
     "text": [
      "Requirement already satisfied: scipy in c:\\users\\richard\\appdata\\local\\programs\\python\\python310\\lib\\site-packages (1.13.1)\n",
      "Requirement already satisfied: numpy<2.3,>=1.22.4 in c:\\users\\richard\\appdata\\local\\programs\\python\\python310\\lib\\site-packages (from scipy) (1.26.4)\n"
     ]
    }
   ],
   "source": [
    "# scipy 라이브러리 설치하기\n",
    "# 안될 시, 터미널에서 conda activate test3810으로 전환한 뒤,\n",
    "# pip install scipy 실행하기\n",
    "!pip install scipy"
   ]
  },
  {
   "cell_type": "code",
   "execution_count": 8,
   "id": "a25fd136-6d6f-46d7-b09c-c00447ebd93c",
   "metadata": {
    "scrolled": true
   },
   "outputs": [
    {
     "data": {
      "text/plain": [
       "ModeResult(mode=5, count=6)"
      ]
     },
     "execution_count": 8,
     "metadata": {},
     "output_type": "execute_result"
    }
   ],
   "source": [
    "# stats.mode() 함수를 이용하여 최빈값 계산하기\n",
    "from scipy import stats\n",
    "stats.mode(data)"
   ]
  },
  {
   "attachments": {},
   "cell_type": "markdown",
   "id": "6f177a7c-e858-4dcf-9040-35a57ecee444",
   "metadata": {},
   "source": [
    "# 분산 구하기\n",
    "- 편차의 제곱의 평균"
   ]
  },
  {
   "attachments": {},
   "cell_type": "markdown",
   "id": "ab497ff6-6e57-4356-a587-79cd27689bba",
   "metadata": {},
   "source": [
    "## (일반)분산 구하기"
   ]
  },
  {
   "cell_type": "code",
   "execution_count": 13,
   "id": "a5bef6ce-b3bd-4d13-bb07-75a187d0667b",
   "metadata": {},
   "outputs": [
    {
     "name": "stdout",
     "output_type": "stream",
     "text": [
      "[1 2 2 2 3 3 3 4 4 5 5 5 5 5 6 6 6 1 2 1 3 5]\n",
      "3.590909090909091\n",
      "[-2.59090909 -1.59090909 -1.59090909 -1.59090909 -0.59090909 -0.59090909\n",
      " -0.59090909  0.40909091  0.40909091  1.40909091  1.40909091  1.40909091\n",
      "  1.40909091  1.40909091  2.40909091  2.40909091  2.40909091 -2.59090909\n",
      " -1.59090909 -2.59090909 -0.59090909  1.40909091]\n",
      "[6.71280992 2.53099174 2.53099174 2.53099174 0.34917355 0.34917355\n",
      " 0.34917355 0.16735537 0.16735537 1.98553719 1.98553719 1.98553719\n",
      " 1.98553719 1.98553719 5.80371901 5.80371901 5.80371901 6.71280992\n",
      " 2.53099174 6.71280992 0.34917355 1.98553719]\n",
      "61.31818181818182\n",
      "2.7871900826446283\n"
     ]
    }
   ],
   "source": [
    "# 계산식으로 분산 구하기\n",
    "print(data)\n",
    "print(mean_value)\n",
    "diff = data - mean_value\n",
    "print(diff)\n",
    "diff_square = diff**2\n",
    "print(diff_square)\n",
    "sum_diff_square = np.sum(diff_square)\n",
    "print(sum_diff_square)\n",
    "variance = sum_diff_square / length\n",
    "print(variance)"
   ]
  },
  {
   "cell_type": "code",
   "execution_count": 14,
   "id": "02068715-b961-4364-a1d4-05c648882f15",
   "metadata": {},
   "outputs": [
    {
     "data": {
      "text/plain": [
       "2.7871900826446283"
      ]
     },
     "execution_count": 14,
     "metadata": {},
     "output_type": "execute_result"
    }
   ],
   "source": [
    "# np.var() 함수를 이용하여 분산 구하기\n",
    "variance2 = np.var(data, ddof=0)\n",
    "variance2"
   ]
  },
  {
   "attachments": {},
   "cell_type": "markdown",
   "id": "f902e5cd-0e2e-49a7-956d-651ea59295ab",
   "metadata": {},
   "source": [
    "## 불편분산 구하기"
   ]
  },
  {
   "cell_type": "code",
   "execution_count": 15,
   "id": "7363a5e5-653b-4aa0-8b62-dff3dbac5506",
   "metadata": {},
   "outputs": [
    {
     "data": {
      "text/plain": [
       "2.91991341991342"
      ]
     },
     "execution_count": 15,
     "metadata": {},
     "output_type": "execute_result"
    }
   ],
   "source": [
    "# np.var() 함수를 이용한 불편 분산 구하기\n",
    "unbiased_var = np.var(data, ddof=1)\n",
    "unbiased_var"
   ]
  },
  {
   "attachments": {},
   "cell_type": "markdown",
   "id": "b1f9c2d0-8cee-40c3-ba43-f9c315d0285f",
   "metadata": {},
   "source": [
    "# 표준편차 구하기"
   ]
  },
  {
   "attachments": {},
   "cell_type": "markdown",
   "id": "3143eee0-7d47-4710-943a-8590ca6dcec8",
   "metadata": {},
   "source": [
    "## (일반)표준편차 구하기"
   ]
  },
  {
   "cell_type": "code",
   "execution_count": 16,
   "id": "08cd4d16-8890-4b52-adcf-2e1da408663a",
   "metadata": {},
   "outputs": [
    {
     "data": {
      "text/plain": [
       "1.6694879702006327"
      ]
     },
     "execution_count": 16,
     "metadata": {},
     "output_type": "execute_result"
    }
   ],
   "source": [
    "# 계산식으로 표준편차 구하기\n",
    "std = np.sqrt(variance2)\n",
    "std"
   ]
  },
  {
   "cell_type": "code",
   "execution_count": 17,
   "id": "fb06e877-9b24-49c5-b51f-278a323d6d82",
   "metadata": {},
   "outputs": [
    {
     "data": {
      "text/plain": [
       "1.6694879702006327"
      ]
     },
     "execution_count": 17,
     "metadata": {},
     "output_type": "execute_result"
    }
   ],
   "source": [
    "# np.std() 함수를 이용 표준편차 구하기\n",
    "std2 = np.std(data)\n",
    "std2"
   ]
  },
  {
   "attachments": {},
   "cell_type": "markdown",
   "id": "3b893996-5638-424c-8d26-964c5df8ef3e",
   "metadata": {},
   "source": [
    "## 불편 표준편차 구하기"
   ]
  },
  {
   "cell_type": "code",
   "execution_count": 18,
   "id": "e6adccd5-91fc-4463-a85c-fe8eb66e9569",
   "metadata": {},
   "outputs": [
    {
     "data": {
      "text/plain": [
       "1.7087754152940695"
      ]
     },
     "execution_count": 18,
     "metadata": {},
     "output_type": "execute_result"
    }
   ],
   "source": [
    "# 계산식으로 표준편차 구하기\n",
    "unbiased_std = np.sqrt(unbiased_var)\n",
    "unbiased_std"
   ]
  },
  {
   "cell_type": "code",
   "execution_count": 19,
   "id": "aab0602d-f5aa-4c92-8413-24f0e3a289c8",
   "metadata": {},
   "outputs": [
    {
     "data": {
      "text/plain": [
       "1.7087754152940695"
      ]
     },
     "execution_count": 19,
     "metadata": {},
     "output_type": "execute_result"
    }
   ],
   "source": [
    "# np.std() 함수를 이용한 표준편차 구하기\n",
    "unbiased_std2 = np.std(data, ddof=1)\n",
    "unbiased_std2"
   ]
  }
 ],
 "metadata": {
  "kernelspec": {
   "display_name": "Python 3",
   "language": "python",
   "name": "python3"
  },
  "language_info": {
   "codemirror_mode": {
    "name": "ipython",
    "version": 3
   },
   "file_extension": ".py",
   "mimetype": "text/x-python",
   "name": "python",
   "nbconvert_exporter": "python",
   "pygments_lexer": "ipython3",
   "version": "3.10.6"
  }
 },
 "nbformat": 4,
 "nbformat_minor": 5
}
