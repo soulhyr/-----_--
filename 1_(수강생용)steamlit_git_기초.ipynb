{
 "cells": [
  {
   "cell_type": "markdown",
   "id": "87086e6d-9c33-40e4-a184-b6713813d6cb",
   "metadata": {},
   "source": [
    "# Streamlit 소개 및 설치"
   ]
  },
  {
   "cell_type": "markdown",
   "id": "14556350-78b8-47bb-8381-61cd4ad4982e",
   "metadata": {},
   "source": [
    "## Streamlit 소개\n",
    " - Streamlit이란 Python을 사용하여 데이터 사이언스 및 머신러닝 프로젝트를 위한 웹 앱을 빠르게 구축할 수 있는 라이브러리\n",
    " - 간단한 스크립트로 복잡한 웹 앱을 구현할 수 있음.\n",
    " - 데이터 시각화와 대화형 컴포넌트를 쉽게 통합할 수 있음.\n",
    "## Streamlit 설치\n",
    "### Local 환경인 경우\n",
    " - 설치\n",
    "     - ```bash\n",
    "       pip install streamlit\n",
    "       ```\n",
    " - 버전 확인\n",
    "     - ```bash\n",
    "       streamlit --version\n",
    "       ```\n",
    "### \bColab 환경인 경우\n",
    " - 설치\n",
    "     - ```bash\n",
    "       pip install streamlit\n",
    "       npm install localtunnel\n",
    "       pip install \"ipywidgets>=7, <8\"\n",
    "       ```\n",
    " - 버전 확인\n",
    "     - ```bash\n",
    "       streamlit --version\n",
    "       ```"
   ]
  },
  {
   "cell_type": "markdown",
   "id": "0452038a-11ba-4aeb-a745-bfbb323ae302",
   "metadata": {},
   "source": [
    "# Streamlit 맛보기\n",
    "## local 환경인 경우\n",
    " - 'app.py' 파일을 만들고, 다음 코드를 작성하자.\n",
    "     - ```python\n",
    "       import streamlit as st\n",
    "\n",
    "       st.title('Hello, Streamlit!!')\n",
    "       st.write('This is my first streamlit app. Congratulations!!')\n",
    "       st.button('Click me!!')\n",
    "       ```\n",
    " - 작성한 스크립트를 터미널에서 streamlit으로 실행함.\n",
    "     - ``` bash\n",
    "       steamlit run app.py\n",
    "       ```"
   ]
  },
  {
   "cell_type": "markdown",
   "id": "a13dffae-466e-4eaf-958f-e1c9e49b152d",
   "metadata": {},
   "source": [
    "## 예시1"
   ]
  },
  {
   "cell_type": "code",
   "execution_count": 1,
   "id": "51526077-7e78-47a7-b855-799a8f463189",
   "metadata": {},
   "outputs": [],
   "source": [
    "%reload_ext autoreload\n",
    "%autoreload 2"
   ]
  },
  {
   "cell_type": "code",
   "execution_count": 4,
   "id": "76d1ccab-539b-42fd-9537-87cf89babfd9",
   "metadata": {},
   "outputs": [
    {
     "name": "stdout",
     "output_type": "stream",
     "text": [
      "Overwriting app.py\n"
     ]
    }
   ],
   "source": [
    "%%writefile app.py\n",
    "\n",
    "import streamlit as st\n",
    "\n",
    "st.title('Hello, Streamlit!!')\n",
    "st.write('This is my first streamlit app. Congratulations!!')\n",
    "st.button('Click me!!')"
   ]
  },
  {
   "cell_type": "code",
   "execution_count": 3,
   "id": "c3c004a8-adcd-4c83-8f1b-6ff800bf54e0",
   "metadata": {},
   "outputs": [],
   "source": [
    "# 터미널에서 아래 명령어 실행하기\n",
    "# streamlit run app.py"
   ]
  },
  {
   "cell_type": "markdown",
   "id": "f60bb69c-0556-4d6b-852a-2d24f1a149c6",
   "metadata": {},
   "source": [
    "## 예시2(출력)\n",
    " - 제목에는 \"Welcome to Streamlit!\" 사용\n",
    " - 부제목에는 \"Exploring the basics\" 사용\n",
    " - 목록으로 Python의 주요 라이브러리 세 가지를 나열하세요. (예: NumPy, Pandas, Matplotlib)"
   ]
  },
  {
   "cell_type": "code",
   "execution_count": 5,
   "id": "dfec1b09-304d-4d39-be29-6b7e4a77c106",
   "metadata": {},
   "outputs": [
    {
     "name": "stdout",
     "output_type": "stream",
     "text": [
      "Overwriting app.py\n"
     ]
    }
   ],
   "source": [
    "%%writefile app.py\n",
    "\n",
    "import streamlit as st\n",
    "st.title(\"Welcome to Streamlit!\")\n",
    "st.header(\"Exploring the basics\")\n",
    "st.write(\"The most important libraries at Python\")\n",
    "st.write('- Numpy')\n",
    "st.write('- Pandas')\n",
    "st.write('- Matplotlib')"
   ]
  },
  {
   "cell_type": "markdown",
   "id": "e10ba2a8-45f0-4e13-a8d4-202900e2af1f",
   "metadata": {},
   "source": [
    "## 예시3(입력)\n",
    " - 슬라이더를 사용하여 사용자가 선택할 수 있는 연도 범위를 2000년에서 2020년까지 설정하세요.\n",
    " - 선택 상자를 사용하여 세 가지 취미(예: 읽기, 여행, 요리) 중 하나를 선택할 수 있게 만드세요."
   ]
  },
  {
   "cell_type": "code",
   "execution_count": 9,
   "id": "23a80c2f-0dc0-49ad-8bfa-272fe464ed5e",
   "metadata": {},
   "outputs": [
    {
     "name": "stdout",
     "output_type": "stream",
     "text": [
      "Overwriting app.py\n"
     ]
    }
   ],
   "source": [
    "%%writefile app.py\n",
    "\n",
    "import streamlit as st\n",
    "\n",
    "year = st.slider('연도를 선택하세요', 2000, 2020)\n",
    "hobby = st.selectbox('다음 중 취미를 선택하세요', ('읽기', '여행', '요리'))\n",
    "st.write(f'당신은 연도는 {year}와 취미는 {hobby}를 선택하셨습니다.')"
   ]
  },
  {
   "cell_type": "markdown",
   "id": "827f211e-5436-4729-b73b-c73fbeb766aa",
   "metadata": {},
   "source": [
    "## 예시4(인터렉션)\n",
    "- \"Show Message\" 버튼을 만드세요.\n",
    "- 버튼을 클릭하면, \"Welcome to our Streamlit app!\"이라는 메시지를 화면에 표시하세요."
   ]
  },
  {
   "cell_type": "code",
   "execution_count": 11,
   "id": "ab6079f8-1366-4363-b9a7-642b11bedbb8",
   "metadata": {},
   "outputs": [
    {
     "name": "stdout",
     "output_type": "stream",
     "text": [
      "Overwriting app.py\n"
     ]
    }
   ],
   "source": [
    "%%writefile app.py\n",
    "\n",
    "import streamlit as st\n",
    "\n",
    "btn = st.button('Show Message')\n",
    "if btn:\n",
    "    st.write(\"Welcome to our Streamlit app!!\")"
   ]
  },
  {
   "cell_type": "markdown",
   "id": "b194a076-b468-4778-b8a1-ad12d3c68d55",
   "metadata": {},
   "source": [
    "# Streamlit의 기본 컴포넌트\n",
    " - [Reference: Streamlit Text Elenments](https://docs.streamlit.io/develop/api-reference/text)"
   ]
  },
  {
   "cell_type": "markdown",
   "id": "3e77a47c-d8ca-41c5-99fa-d346444d104b",
   "metadata": {},
   "source": [
    "## 기본 출력 \n",
    " - 텍스트, 숫자, 날짜 등 다양한 형태의 데이터를 웹 앱에 출력하는 방법"
   ]
  },
  {
   "cell_type": "code",
   "execution_count": 12,
   "id": "8b9535e1-5039-4319-8b22-be4d1c53f541",
   "metadata": {},
   "outputs": [
    {
     "name": "stdout",
     "output_type": "stream",
     "text": [
      "Overwriting app.py\n"
     ]
    }
   ],
   "source": [
    "%%writefile app.py\n",
    "\n",
    "import streamlit as st\n",
    "\n",
    "# 기본 출력\n",
    "st.write('This is a basic write command.')\n",
    "st.markdown('## This is a markdown')\n",
    "st.latex(r''' e^{i\\pi} + 1 = 0 ''')\n",
    "\n",
    "# 데이터 표시\n",
    "st.write({'Name': 'Alice', 'Age': 25})"
   ]
  },
  {
   "cell_type": "markdown",
   "id": "bc01305f-05d8-4936-8f21-8baf3da5f405",
   "metadata": {},
   "source": [
    "## 사용자 입력 받기\n",
    " - 사용자로부터 데이터를 입력받아 앱의 동작을 제어하는 방법"
   ]
  },
  {
   "cell_type": "code",
   "execution_count": 14,
   "id": "0556ac2f-d880-45d9-9ddb-ba13ce3d0c37",
   "metadata": {},
   "outputs": [
    {
     "name": "stdout",
     "output_type": "stream",
     "text": [
      "Overwriting app.py\n"
     ]
    }
   ],
   "source": [
    "%%writefile app.py\n",
    "\n",
    "import streamlit as st\n",
    "\n",
    "# 입력 위젯\n",
    "name = st.text_input('Input Your Name')\n",
    "age = st.slider('Choose your age', 18, 65)\n",
    "job = st.selectbox('Job role', ['Developer', 'Manager', 'Student'])\n",
    "agree = st.checkbox('I agree')\n",
    "\n",
    "# 조건부 출력\n",
    "if agree:\n",
    "    st.write(f'Good Morning. You must be {name}')\n",
    "    st.write(f'You are {age} years old and work as a {job}.')\n"
   ]
  },
  {
   "cell_type": "markdown",
   "id": "b774a2a8-bc33-4bd4-a0c4-c0e1dd3332db",
   "metadata": {},
   "source": [
    "## 조건부 로직으로 인터렉티브 기능 구현\n",
    " - 입력 컴포넌트와 조건문을 사용하여 사용자의 선택에 따라 다른 출력을 제공"
   ]
  },
  {
   "cell_type": "code",
   "execution_count": 15,
   "id": "8f759254-c66e-431e-91f9-5dd44741c9bf",
   "metadata": {},
   "outputs": [
    {
     "name": "stdout",
     "output_type": "stream",
     "text": [
      "Overwriting app.py\n"
     ]
    }
   ],
   "source": [
    "%%writefile app.py\n",
    "\n",
    "import streamlit as st\n",
    "\n",
    "hobby = st.radio('Select your hobby:', ['Reading', 'Gaming', 'Hiking'])\n",
    "\n",
    "if hobby == 'Reading':\n",
    "    st.write('You selected reading.')\n",
    "elif hobby == 'Gaming':\n",
    "    st.write('You selected gaming.')\n",
    "else:\n",
    "    st.write('You selected hiking.')\n"
   ]
  },
  {
   "cell_type": "markdown",
   "id": "9479e88b-067d-4f0c-8c9f-c8958c71470f",
   "metadata": {},
   "source": [
    "## 사이드바 사용하기\n",
    " - 앱의 구조를 개선하기 위해 사이드바를 사용함."
   ]
  },
  {
   "cell_type": "code",
   "execution_count": 17,
   "id": "cdf4c3d4-87d2-40a5-9bd5-b7d4ec84748d",
   "metadata": {},
   "outputs": [
    {
     "name": "stdout",
     "output_type": "stream",
     "text": [
      "Overwriting app.py\n"
     ]
    }
   ],
   "source": [
    "%%writefile app.py\n",
    "\n",
    "import streamlit as st\n",
    "\n",
    "# 사이드바\n",
    "with st.sidebar:\n",
    "    st.write('This is a sidebar')\n",
    "    navigation = st.radio('Go to', ['Home', 'Settings', 'About'])\n",
    "    if navigation == 'Settings':\n",
    "        st.write('Settings page')\n",
    "    elif navigation == 'Home':\n",
    "        st.write('Home page')\n",
    "    else:\n",
    "        st.write('About page')\n"
   ]
  },
  {
   "cell_type": "markdown",
   "id": "dfc197bd-858e-401c-90f3-ecb49b43d748",
   "metadata": {},
   "source": [
    "## 연습문제\n",
    " - 문제1) Markdown을 사용하여 페이지에 제목, 하이퍼링크, 강조된 텍스트를 추가하세요.\n",
    "     - title: 'Main Title'\n",
    "     - hypterlink: 'https://streamlit.io/'\n",
    "     - text: '{Bold} text and {italic} text'\n",
    " - 문제2) 사용자의 이름, 선호하는 프로그래밍 언어(선택 목록 제공), 프로그래밍 경력(년)을 입력 받는 양식을 만드세요.\n",
    "     - 프로그래밍 언어 종류: ['Python', 'Java', 'C++', 'JavaScript']\n",
    "     - 프로그래밍 경력: 0 ~ 50 년 사이로 1년 단위 측정\n",
    "     - 'submit' 버튼이 눌러지면, 위의 정보가 text로 표시되도록 함.\n",
    " - 문제3) 사용자가 선택한 요일에 따라 음식을 추천하는 기능을 만드세요.\n",
    " - 문제4) 사이드바를 사용하여 사용자가 대시보드의 주요 색상과 데이터 갱신 빈도를 설정할 수 있게 만드세요.\n",
    "     - st.sidebar, st.color_picker(), st.selectbox() 사용 \n",
    " - 문제5) 사이드바를 활용하여 앱의 다른 페이지로 이동할 수 있는 내비게이션 바를 만드세요.\n",
    "     - st.sidebar.selectbox(), st.sidebar.radio() 중 선택 사용 "
   ]
  },
  {
   "cell_type": "code",
   "execution_count": null,
   "id": "624a59f4-b598-4b62-818f-04360171139c",
   "metadata": {},
   "outputs": [],
   "source": []
  },
  {
   "cell_type": "markdown",
   "id": "2765c949-f105-4c27-ba89-844e943d2072",
   "metadata": {},
   "source": [
    "# 데이터 시각화 컴포넌트\n",
    " - streamlit을 사용한 데이터 시각화 및 웹 애플리케이션 통합 방법\n",
    " - [Reference: Streamlit Chat Elements](https://docs.streamlit.io/develop/api-reference/charts)"
   ]
  },
  {
   "cell_type": "markdown",
   "id": "1b6b6f3c-dac1-4d55-9e5d-5a219820bb68",
   "metadata": {},
   "source": [
    "## Stremalit을 이용한 기본 차트 그리기\n",
    " - Stremait에서 제공하는 내장 차트 기능을 사용하여 데이터 시각화"
   ]
  },
  {
   "cell_type": "markdown",
   "id": "466aee8f-df7c-4f3e-9adb-d0863b112d33",
   "metadata": {},
   "source": [
    "### 라인 기본 차트"
   ]
  },
  {
   "cell_type": "code",
   "execution_count": 1,
   "id": "cf1bc517-d1c4-4651-9492-90a1bcf26954",
   "metadata": {},
   "outputs": [
    {
     "name": "stdout",
     "output_type": "stream",
     "text": [
      "Overwriting app.py\n"
     ]
    }
   ],
   "source": [
    "%%writefile app.py\n",
    "\n",
    "# line chart1\n",
    "\n",
    "import streamlit as st\n",
    "import pandas as pd\n",
    "import numpy as np\n",
    "\n",
    "chart_data = pd.DataFrame(np.random.randn(20, 3), columns=[\"a\", \"b\", \"c\"])\n",
    "\n",
    "st.title('Line Chart')\n",
    "st.line_chart(chart_data)"
   ]
  },
  {
   "cell_type": "markdown",
   "id": "fcd6bb70-abad-41b2-8b95-0523393bed64",
   "metadata": {},
   "source": [
    "### 라인 차트 with 범례와 축 지정"
   ]
  },
  {
   "cell_type": "code",
   "execution_count": 22,
   "id": "b96af805-60a2-4634-bc0d-4bc5b8a644bd",
   "metadata": {},
   "outputs": [
    {
     "name": "stdout",
     "output_type": "stream",
     "text": [
      "Overwriting app.py\n"
     ]
    }
   ],
   "source": [
    "%%writefile app.py\n",
    "\n",
    "# line chart2\n",
    "\n",
    "import streamlit as st\n",
    "import pandas as pd\n",
    "import numpy as np\n",
    "\n",
    "chart_data = pd.DataFrame(np.random.randn(20, 3), columns=[\"col1\", \"col2\", \"col3\"])\n",
    "\n",
    "st.line_chart(\n",
    "   chart_data, x=\"col1\", y=[\"col2\", \"col3\"], color=[\"#FF0000\", \"#0000FF\"] \n",
    ")"
   ]
  },
  {
   "cell_type": "markdown",
   "id": "f2f71bc5-2e5c-4d1b-839e-5af7584a6e94",
   "metadata": {},
   "source": [
    "### 산점도"
   ]
  },
  {
   "cell_type": "code",
   "execution_count": 28,
   "id": "040315ec-a8ab-4d44-9a06-83ff86b59173",
   "metadata": {},
   "outputs": [
    {
     "name": "stdout",
     "output_type": "stream",
     "text": [
      "Overwriting app.py\n"
     ]
    }
   ],
   "source": [
    "%%writefile app.py\n",
    "\n",
    "import streamlit as st\n",
    "import pandas as pd\n",
    "import numpy as np\n",
    "\n",
    "chart_data = pd.DataFrame(np.random.randn(20, 3), columns=[\"col1\", \"col2\", \"col3\"])\n",
    "chart_data['col4'] = np.random.choice(['A','B','C'], 20)\n",
    "\n",
    "st.scatter_chart(\n",
    "    chart_data,\n",
    "    x='col1',\n",
    "    y='col2',\n",
    "    color='col4',\n",
    "    size='col3',\n",
    ")"
   ]
  },
  {
   "cell_type": "markdown",
   "id": "e29c35bc-2165-453c-a573-7a376ce9b072",
   "metadata": {},
   "source": [
    "### 막대그래프"
   ]
  },
  {
   "cell_type": "code",
   "execution_count": 29,
   "id": "28d92294-26aa-472e-b49a-144d5e9f12da",
   "metadata": {},
   "outputs": [
    {
     "name": "stdout",
     "output_type": "stream",
     "text": [
      "Overwriting app.py\n"
     ]
    }
   ],
   "source": [
    "%%writefile app.py\n",
    "\n",
    "import streamlit as st\n",
    "import pandas as pd\n",
    "import numpy as np\n",
    "\n",
    "chart_data = pd.DataFrame(\n",
    "   {\"col1\": list(range(20)), \"col2\": np.random.randn(20), \"col3\": np.random.randn(20)}\n",
    ")\n",
    "\n",
    "st.bar_chart(\n",
    "   chart_data, x=\"col1\", y=[\"col2\", \"col3\"], color=[\"#FF0000\", \"#0000FF\"]\n",
    ")"
   ]
  },
  {
   "cell_type": "markdown",
   "id": "329e375c-442d-4c17-aa39-4f5f89757e45",
   "metadata": {},
   "source": [
    "## Seaborn을 이용한 고급 차트 그리기\n",
    " - st.pyplot() 이용"
   ]
  },
  {
   "cell_type": "code",
   "execution_count": 51,
   "id": "eb5127ea-c2e6-4e63-a4e6-3e9fed2566d4",
   "metadata": {},
   "outputs": [
    {
     "name": "stdout",
     "output_type": "stream",
     "text": [
      "Overwriting app.py\n"
     ]
    }
   ],
   "source": [
    "%%writefile app.py\n",
    "# %matplotlib inline\n",
    "\n",
    "import matplotlib.pyplot as plt\n",
    "import seaborn as sns\n",
    "import plotly.express as px\n",
    "import streamlit as st\n",
    "\n",
    "df = px.data.gapminder()\n",
    "\n",
    "plt.figure(figsize=(10, 6))\n",
    "sns.histplot(df, x='lifeExp', bins=10, kde=True)\n",
    "plt.title('Histogram of Life Expectation')\n",
    "plt.xlabel('Life Expectation')\n",
    "plt.ylabel('Frequency')\n",
    "\n",
    "st.pyplot(plt)"
   ]
  },
  {
   "cell_type": "markdown",
   "id": "1a83f47f-26e9-4c26-bee6-c5444d0c3ae9",
   "metadata": {},
   "source": [
    "## Plotly를 이용한 고급 차트 그리기\n",
    " - st.plotly_chart() 이용"
   ]
  },
  {
   "cell_type": "code",
   "execution_count": 3,
   "id": "61172dfe-7052-4531-80e1-304d9a5e24f1",
   "metadata": {},
   "outputs": [
    {
     "name": "stdout",
     "output_type": "stream",
     "text": [
      "Overwriting app.py\n"
     ]
    }
   ],
   "source": [
    "%%writefile app.py\n",
    "\n",
    "import plotly.express as px\n",
    "import streamlit as st\n",
    "\n",
    "df = px.data.gapminder()\n",
    "\n",
    "fig = px.scatter(\n",
    "    df.query(\"year==2007\"),\n",
    "    x=\"gdpPercap\",\n",
    "    y=\"lifeExp\",\n",
    "    size=\"pop\",\n",
    "    color=\"continent\",\n",
    "    hover_name=\"country\",\n",
    "    log_x=True,\n",
    "    size_max=60,\n",
    ")\n",
    "\n",
    "tab1, tab2 = st.tabs([\"Streamlit theme (default)\", \"Plotly native theme\"])\n",
    "with tab1:\n",
    "    # Streamlit theme 사용\n",
    "    st.plotly_chart(fig, theme=\"streamlit\", use_container_width=True)\n",
    "with tab2:\n",
    "    # Plotly theme 사용\n",
    "    st.plotly_chart(fig, theme=None, use_container_width=True)"
   ]
  },
  {
   "cell_type": "markdown",
   "id": "75a4c5f3-3994-4ab0-90ff-d71991f8b310",
   "metadata": {},
   "source": [
    "## 사용자의 차트 선택에 따른 유형 변경"
   ]
  },
  {
   "cell_type": "code",
   "execution_count": 61,
   "id": "7f99c81e-837c-4ec5-9466-322e4cc33359",
   "metadata": {},
   "outputs": [
    {
     "name": "stdout",
     "output_type": "stream",
     "text": [
      "Overwriting app.py\n"
     ]
    }
   ],
   "source": [
    "%%writefile app.py\n",
    "\n",
    "import plotly.express as px\n",
    "import matplotlib.pyplot as plt\n",
    "import seaborn as sns\n",
    "import streamlit as st\n",
    "\n",
    "df = px.data.gapminder()\n",
    "\n",
    "x = 'continent'\n",
    "y = 'lifeExp'\n",
    "\n",
    "plt.figure(figsize=(10, 8))\n",
    "\n",
    "chart_type = st.selectbox('차트 유형을 선택하세요', ['Violine Plot', 'Box Plot', 'Bar Chart'])\n",
    "\n",
    "if chart_type == 'Violine Plot':\n",
    "    sns.violinplot(df, x=x, y=y)\n",
    "    st.pyplot(plt)\n",
    "elif chart_type == 'Box Plot':\n",
    "    sns.boxplot(df, x=x, y=y)\n",
    "    st.pyplot(plt)\n",
    "else:\n",
    "    st.bar_chart(df.groupby(x)[y].agg('sum'))\n",
    "    "
   ]
  },
  {
   "cell_type": "markdown",
   "id": "c9184fb1-a3b3-4352-af99-9cdaf2a18235",
   "metadata": {},
   "source": [
    "## 연습문제\n",
    " > 아래 연습문제는 plotly.data.experiment() 데이터를 이용합니다.\n",
    " - 문제1) \b'group' 컬럼을 기준으로 그룹화한 후 'experiment_3'의 평균값을 막대 차트로 그려 streamlit에 시각화 하세요.\n",
    " - 문제2) 'gender' 컬럼을 기준으로 'experiment_2'의 데이터를 boxplot으로 그려 streamlit에 시각화 하세요.\n",
    " - 문제3) 'gender' 컬럼을 기준으로 'experiment_1'의 데이터를 violine plot을 그려 streamlit에 시각화 하세요.\n",
    " - 문제4) streamlit의 selectbox()를 이용하여, 위 세 개의 그래프를 선택하여 시각화하는 웹 앱을 구현하세요."
   ]
  },
  {
   "cell_type": "code",
   "execution_count": null,
   "id": "47583d2b-97f8-492d-8a24-fc751e67b7df",
   "metadata": {},
   "outputs": [],
   "source": []
  }
 ],
 "metadata": {
  "kernelspec": {
   "display_name": "nlp3810",
   "language": "python",
   "name": "nlp3810"
  },
  "language_info": {
   "codemirror_mode": {
    "name": "ipython",
    "version": 3
   },
   "file_extension": ".py",
   "mimetype": "text/x-python",
   "name": "python",
   "nbconvert_exporter": "python",
   "pygments_lexer": "ipython3",
   "version": "3.8.10"
  }
 },
 "nbformat": 4,
 "nbformat_minor": 5
}
